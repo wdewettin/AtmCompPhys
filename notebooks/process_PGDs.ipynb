{
 "cells": [
  {
   "cell_type": "code",
   "execution_count": null,
   "metadata": {},
   "outputs": [],
   "source": [
    "import xarray as xr"
   ]
  },
  {
   "cell_type": "code",
   "execution_count": null,
   "metadata": {},
   "outputs": [],
   "source": [
    "var_dict = {\n",
    "    \"SFX.FRAC_TOWN___\": \"frac_town\",\n",
    "    \"SFX.FRAC_WATER__\": \"frac_water\",\n",
    "    \"SFX.FRAC_NATURE_\": \"frac_nature\",\n",
    "    \"SFX.FRAC_SEA____\": \"frac_sea\",\n",
    "}\n",
    "var_info_dict = {\n",
    "    \"frac_town\": {\n",
    "        \"standard_name\": \"town_fraction\",\n",
    "        \"long_name\": \"Town Fraction\",\n",
    "        \"units\": \"%\",\n",
    "    },\n",
    "    \"frac_water\": {\n",
    "        \"standard_name\": \"water_fraction\",\n",
    "        \"long_name\": \"Water Fraction\",\n",
    "        \"units\": \"%\",\n",
    "    },\n",
    "    \"frac_nature\": {\n",
    "        \"standard_name\": \"nature_fraction\",\n",
    "        \"long_name\": \"Nature Fraction\",\n",
    "        \"units\": \"%\",\n",
    "    },\n",
    "    \"frac_sea\": {\n",
    "        \"standard_name\": \"sea_fraction\",\n",
    "        \"long_name\": \"Sea Fraction\",\n",
    "        \"units\": \"%\",\n",
    "    },\n",
    "}\n",
    "run_name_dict = {\n",
    "    \"../data/BE40a_l_PGD.fa_regridded.nc\": [\"baseline\", \"initSFX\"],\n",
    "    \"../data/BE40a_l_noTEB_PGD.fa_regridded.nc\": [\"noTEB\", \"initSFXnoTEB\"],\n",
    "}\n",
    "\n",
    "for file_name in run_name_dict.keys():\n",
    "    ds_pgd = xr.open_dataset(file_name, engine=\"netcdf4\", chunks=\"auto\")\n",
    "    ds_fracs = ds_pgd[var_dict.keys()]\n",
    "\n",
    "    # Rename variables\n",
    "    ds_fracs_renamed = ds_fracs.rename(var_dict)\n",
    "\n",
    "    for var_name in var_info_dict.keys():\n",
    "        ds_fracs_renamed[var_name].attrs = var_info_dict[var_name]\n",
    "\n",
    "    run_name_list = run_name_dict[file_name]\n",
    "\n",
    "    for run_name in run_name_list:\n",
    "        ds_fracs_renamed.assign_coords(run_name=run_name).to_netcdf(\n",
    "            f\"../data/{run_name}_landuse_regridded.nc\", engine=\"netcdf4\"\n",
    "        )\n",
    "\n",
    "    ds_fracs_renamed.close()"
   ]
  }
 ],
 "metadata": {
  "kernelspec": {
   "display_name": "DS-geospatial",
   "language": "python",
   "name": "python3"
  },
  "language_info": {
   "codemirror_mode": {
    "name": "ipython",
    "version": 3
   },
   "file_extension": ".py",
   "mimetype": "text/x-python",
   "name": "python",
   "nbconvert_exporter": "python",
   "pygments_lexer": "ipython3"
  }
 },
 "nbformat": 4,
 "nbformat_minor": 2
}
