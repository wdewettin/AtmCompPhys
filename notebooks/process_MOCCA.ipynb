{
 "cells": [
  {
   "cell_type": "code",
   "execution_count": null,
   "metadata": {},
   "outputs": [],
   "source": [
    "import pandas as pd\n",
    "import xarray as xr\n",
    "import numpy as np"
   ]
  },
  {
   "cell_type": "code",
   "execution_count": null,
   "metadata": {},
   "outputs": [],
   "source": [
    "file_name_dict = {\n",
    "    \"provinciehuis\": (\"Provinciehuis\", (3.728, 51.051)),\n",
    "    \"melle\": (\"Melle\", (3.816, 50.980)),\n",
    "    \"honda\": (\"Honda\", (3.749, 51.109)),\n",
    "    \"wondelgem\": (\"Wondelgem\", (3.703, 51.084)),\n",
    "    \"plantentuin\": (\"Plantentuin\", (3.722, 51.036)),\n",
    "    \"sintbavo\": (\"Sint-Bavo\", (3.732, 51.052)),\n",
    "}\n",
    "\n",
    "for file_name in file_name_dict.keys():\n",
    "    print(file_name)\n",
    "    file_path = f\"../data/{file_name}.csv\"\n",
    "    new_file_path = f\"../data/{file_name}_clean.csv\"\n",
    "    file = open(file_path)\n",
    "    new_file = open(new_file_path, \"w\")\n",
    "    new_file.write(\"year,month,day,hour,minutes,seconds,temperature,?\\n\")\n",
    "\n",
    "    for line in file:\n",
    "        line_list = line.strip().split(\",\")\n",
    "        if len(line_list) == 9:\n",
    "            assert line_list[-3] == \"\"\n",
    "            line_list = line_list[:6] + line_list[-2:]\n",
    "\n",
    "        new_line = \",\".join(line_list)\n",
    "        new_file.write(new_line + \"\\n\")\n",
    "\n",
    "    new_file.close()\n",
    "    file.close()"
   ]
  },
  {
   "cell_type": "code",
   "execution_count": null,
   "metadata": {},
   "outputs": [],
   "source": [
    "ds_list = list()\n",
    "\n",
    "for file_name in file_name_dict.keys():\n",
    "    print(file_name)\n",
    "    df = pd.read_csv(f\"../data/{file_name}_clean.csv\")\n",
    "\n",
    "    ds_raw = xr.Dataset.from_dataframe(df)\n",
    "    time_list = list()\n",
    "\n",
    "    for index in ds_raw.index:\n",
    "        time_list.append(\n",
    "            np.datetime64(\n",
    "                f\"{ds_raw.year[index].values}-{ds_raw.month[index].values:02d}-{ds_raw.day[index].values:02d}T{ds_raw.hour[index].values:02d}\",\n",
    "                \"ns\",\n",
    "            )\n",
    "        )\n",
    "\n",
    "    ds_raw = ds_raw.assign_coords({\"time\": (\"index\", time_list)})\n",
    "    ds = ds_raw.swap_dims(index=\"time\")\n",
    "    ds[\"time\"] = np.array(ds.time, dtype=\"datetime64[ns]\")\n",
    "    ds = ds.set_coords([\"year\", \"month\", \"day\", \"hour\"])\n",
    "    ds = ds.drop_vars([\"minutes\", \"seconds\", \"?\"])\n",
    "\n",
    "    ds = ds.rename(temperature=\"tas\")\n",
    "    ds[\"tas\"].attrs = {\n",
    "        \"standard_name\": \"air_temperature\",\n",
    "        \"long_name\": \"Near-Surface Air Temperature\",\n",
    "        \"units\": \"°C\",\n",
    "        \"cell_methods\": \"time: point\",\n",
    "    }\n",
    "\n",
    "    file_info = file_name_dict[file_name]\n",
    "    location = file_info[0]\n",
    "    lon, lat = file_info[1]\n",
    "\n",
    "    ds = ds.assign_coords({\"lon\": lon, \"lat\": lat, \"location\": location})\n",
    "    ds_list.append(ds)"
   ]
  },
  {
   "cell_type": "code",
   "execution_count": null,
   "metadata": {},
   "outputs": [],
   "source": [
    "ds = xr.concat(ds_list, dim=\"location\")\n",
    "ds.to_netcdf(\"../data/MOCCA_tas.nc\", engine=\"netcdf4\")"
   ]
  },
  {
   "cell_type": "code",
   "execution_count": null,
   "metadata": {},
   "outputs": [],
   "source": [
    "tstart = \"2019-07-22T01\"\n",
    "tstop = \"2019-07-27T00\"\n",
    "\n",
    "ds_sel = ds.sel(time=slice(tstart, tstop))\n",
    "ds_sel.to_netcdf(f\"../data/MOCCA_tas_{tstart}_{tstop}.nc\", engine=\"netcdf4\")"
   ]
  },
  {
   "cell_type": "code",
   "execution_count": null,
   "metadata": {},
   "outputs": [],
   "source": [
    "ds_sel.tas.groupby(\"hour\").mean().plot(hue=\"location\")"
   ]
  }
 ],
 "metadata": {
  "kernelspec": {
   "display_name": "DS-geospatial",
   "language": "python",
   "name": "python3"
  },
  "language_info": {
   "codemirror_mode": {
    "name": "ipython",
    "version": 3
   },
   "file_extension": ".py",
   "mimetype": "text/x-python",
   "name": "python",
   "nbconvert_exporter": "python",
   "pygments_lexer": "ipython3"
  }
 },
 "nbformat": 4,
 "nbformat_minor": 2
}
