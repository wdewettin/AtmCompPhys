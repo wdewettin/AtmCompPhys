{
 "cells": [
  {
   "cell_type": "code",
   "execution_count": null,
   "metadata": {},
   "outputs": [],
   "source": [
    "import pandas as pd\n",
    "import xarray as xr\n",
    "import matplotlib.pyplot as plt\n",
    "import cartopy.crs as ccrs\n",
    "import cartopy.feature as cfeature\n",
    "import numpy as np"
   ]
  },
  {
   "cell_type": "markdown",
   "metadata": {},
   "source": [
    "First, we read in the .csv files as pandas DataFrames. And we plot the locations of the stations."
   ]
  },
  {
   "cell_type": "code",
   "execution_count": null,
   "metadata": {},
   "outputs": [],
   "source": [
    "df = pd.read_csv(\"../data/PRECIP_QUANTITY_SETHY_PRECIP_all_stat_1950101-20240101.csv\")\n",
    "df_meta = pd.read_csv(\"../data/sethy_station_meta.csv\")"
   ]
  },
  {
   "cell_type": "code",
   "execution_count": null,
   "metadata": {},
   "outputs": [],
   "source": [
    "fig, ax = plt.subplots(subplot_kw={\"projection\": ccrs.PlateCarree()})\n",
    "ax.coastlines(alpha=0.7)\n",
    "ax.add_feature(cfeature.BORDERS, alpha=0.5, linestyle=\"dotted\")\n",
    "ax.scatter(df_meta.lon, df_meta.lat)"
   ]
  },
  {
   "cell_type": "markdown",
   "metadata": {},
   "source": [
    "Next, we process the DataFrames and convert them to xarray DataSets. "
   ]
  },
  {
   "cell_type": "code",
   "execution_count": null,
   "metadata": {},
   "outputs": [],
   "source": [
    "ds_meta = xr.Dataset.from_dataframe(df_meta)\n",
    "\n",
    "ds_raw = xr.Dataset.from_dataframe(df)\n",
    "ds = ds_raw.swap_dims(index=\"time\")\n",
    "ds[\"time\"] = np.array(ds.time, dtype=\"datetime64[ns]\")\n",
    "ds = ds.set_coords([\"year\", \"month\", \"day\", \"hour\"])\n",
    "\n",
    "locations = list(ds.data_vars)\n",
    "da_combined = xr.concat([ds[loc] for loc in locations], dim=\"location\")\n",
    "da_combined = da_combined.assign_coords(location=locations)\n",
    "\n",
    "ds = xr.Dataset({\"pr\": da_combined})\n",
    "ds"
   ]
  },
  {
   "cell_type": "markdown",
   "metadata": {},
   "source": [
    "Now, we take a look at the period of the Vesder case. We find the locations with the five highest accumulated precipitation sums. We save this dataset for the students."
   ]
  },
  {
   "cell_type": "code",
   "execution_count": null,
   "metadata": {},
   "outputs": [],
   "source": [
    "ds_period = ds.sel(time=slice(\"2021-07-12T01\", \"2021-07-17T00\"))\n",
    "pr_sum = ds_period.pr.sum(\"time\")\n",
    "pr_sum.location.sortby(pr_sum)"
   ]
  },
  {
   "cell_type": "code",
   "execution_count": null,
   "metadata": {},
   "outputs": [],
   "source": [
    "max_locations = [\"Jalhay\", \"Spa\", \"Mont-Rigi\", \"Neu-Hattlich\", \"Erezee\"]\n",
    "ds_period.sel(location=max_locations).pr.plot(hue=\"location\")"
   ]
  },
  {
   "cell_type": "code",
   "execution_count": null,
   "metadata": {},
   "outputs": [],
   "source": [
    "ds_meta_locs_list = list()\n",
    "\n",
    "for location in max_locations:\n",
    "    ds_meta_loc = ds_meta.where(ds_meta.name == location).dropna(\"index\")\n",
    "    ds_meta_locs_list.append(ds_meta_loc)\n",
    "\n",
    "ds_meta_locs = xr.concat(ds_meta_locs_list, dim=\"index\")\n",
    "\n",
    "fig, ax = plt.subplots(subplot_kw={\"projection\": ccrs.PlateCarree()})\n",
    "ax.coastlines(alpha=0.7)\n",
    "ax.add_feature(cfeature.BORDERS, alpha=0.5, linestyle=\"dotted\")\n",
    "ax.scatter(ds_meta_locs.lon, ds_meta_locs.lat)\n",
    "plt.show()"
   ]
  },
  {
   "cell_type": "code",
   "execution_count": null,
   "metadata": {},
   "outputs": [],
   "source": [
    "ds_sel = ds.sel(time=slice(\"2021-07-12T01\", \"2021-07-17T00\")).sel(\n",
    "    location=max_locations\n",
    ")\n",
    "lons = list()\n",
    "lats = list()\n",
    "\n",
    "for location in ds_sel.location:\n",
    "    ds_meta_loc = ds_meta.where(ds_meta.name == location).dropna(\"index\")\n",
    "    lons.append(ds_meta_loc.lon.values[0])\n",
    "    lats.append(ds_meta_loc.lat.values[0])\n",
    "\n",
    "ds_sel = ds_sel.assign_coords(lon=(\"location\", lons), lat=(\"location\", lats))\n",
    "ds_sel.attrs = {\n",
    "    \"standard_name\": \"precipitation_flux\",\n",
    "    \"long_name\": \"Precipitation\",\n",
    "    \"units\": \"mm/h\",\n",
    "    \"cell_methods\": \"time: mean\",\n",
    "}\n",
    "ds_sel.to_netcdf(\"../data/SETHY_pr_2021-07-12T01_2021-07-17T00.nc\", engine=\"netcdf4\")"
   ]
  }
 ],
 "metadata": {
  "kernelspec": {
   "display_name": "DS-geospatial",
   "language": "python",
   "name": "python3"
  },
  "language_info": {
   "codemirror_mode": {
    "name": "ipython",
    "version": 3
   },
   "file_extension": ".py",
   "mimetype": "text/x-python",
   "name": "python",
   "nbconvert_exporter": "python",
   "pygments_lexer": "ipython3"
  }
 },
 "nbformat": 4,
 "nbformat_minor": 2
}
