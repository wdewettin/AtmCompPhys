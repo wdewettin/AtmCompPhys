{
 "cells": [
  {
   "cell_type": "markdown",
   "metadata": {},
   "source": [
    "# 1. <a id='toc1_'></a>[Import packages](#toc0_)\n",
    "\n",
    "First, we import the necessary packages for this exercise."
   ]
  },
  {
   "cell_type": "code",
   "execution_count": null,
   "metadata": {},
   "outputs": [],
   "source": [
    "import xarray as xr\n",
    "import matplotlib.pyplot as plt\n",
    "import cartopy.crs as ccrs\n",
    "import numpy as np\n",
    "import cartopy.feature as cfeature\n",
    "\n",
    "%matplotlib inline\n",
    "%config InlineBackend.figure_format = 'png'"
   ]
  },
  {
   "cell_type": "code",
   "execution_count": null,
   "metadata": {},
   "outputs": [],
   "source": [
    "# Change to directory where data is stored\n",
    "data_dir = \"/kyukon/data/gent/courses/2024/computphys_C004504/input\""
   ]
  },
  {
   "cell_type": "markdown",
   "metadata": {},
   "source": [
    "**Table of contents**<a id='toc0_'></a>    \n",
    "- 1. [Import packages](#toc1_)    \n",
    "- 2. [Open simulation data](#toc2_)    \n",
    "  - 2.1. [Solutions:](#toc2_1_)    \n",
    "- 3. [Investigate UHI](#toc3_)    \n",
    "  - 3.1. [Solutions:](#toc3_1_)    \n",
    "- 4. [Energy exchange with the surface](#toc4_)    \n",
    "  - 4.1. [Solutions:](#toc4_1_)    \n",
    "- 5. [Cold start vs. soil spin-up](#toc5_)    \n",
    "  - 5.1. [Solutions:](#toc5_1_)    \n",
    "- 6. [Extra 1. Locations with a heatwave](#toc6_)    \n",
    "  - 6.1. [Solutions:](#toc6_1_)    \n",
    "- 7. [Extra 2. Simulation without urban areas](#toc7_)    \n",
    "  - 7.1. [Solutions:](#toc7_1_)    \n",
    "\n",
    "<!-- vscode-jupyter-toc-config\n",
    "\tnumbering=true\n",
    "\tanchor=true\n",
    "\tflat=false\n",
    "\tminLevel=1\n",
    "\tmaxLevel=6\n",
    "\t/vscode-jupyter-toc-config -->\n",
    "<!-- THIS CELL WILL BE REPLACED ON TOC UPDATE. DO NOT WRITE YOUR TEXT IN THIS CELL -->"
   ]
  },
  {
   "cell_type": "markdown",
   "metadata": {},
   "source": [
    "# 2. <a id='toc2_'></a>[Open simulation data](#toc0_)\n",
    "\n",
    "- Open the 2-meter temperature (variable `tas`) data for the `initSFX`-simulation starting at midnight on 1 July 2019 and running for 720 hours: `initSFX_2019070100_720_tas_2019-07-01T01_2019-07-31T00_3600_regridded.nc`\n",
    "- Which units are used for the temperature? Convert these units to degrees Celsius (if necessary) for this exercise. This will facilitate the interpretation of results.\n",
    "- Let's now focus on one location: the Royal Meteorological Institute of Belgium (RMI) in Uccle. Select the temperature data for this location from the simulation dataset. Do so by finding the point in the simulation grid, which lies closest to the RMI. The coordinates of the RMI are 50.799 N, 4.359 E.\n",
    "- From 22 until 26 July 2019, we experienced a short, but very intense heat wave in Belgium. The RMI speaks of a heat wave when the maximum temperatures in Uccle reach at least 25 degrees for at least 5 consecutive days, with at least 30 degrees  being reached on at least three days (see [heat wave definition](https://www.meteo.be/nl/info/weerwoorden/hittegolf) in Dutch). Select this 5-day period from the data and verify if these conditions for a heat wave are met in the simulation data by inspecting a plot."
   ]
  },
  {
   "cell_type": "markdown",
   "metadata": {},
   "source": [
    "## 2.1. <a id='toc2_1_'></a>[Solutions:](#toc0_)"
   ]
  },
  {
   "cell_type": "markdown",
   "metadata": {
    "tags": [
     "hide"
    ]
   },
   "source": [
    "We will write a function for loading in the data and converting temperature variables to degrees Celsius."
   ]
  },
  {
   "cell_type": "code",
   "execution_count": null,
   "metadata": {
    "tags": [
     "hide"
    ]
   },
   "outputs": [],
   "source": [
    "def convert_to_Celsius(ds):\n",
    "    for var_name in [\"tas\", \"ts\", \"tsl1\", \"tsl2\", \"troad1\"]:\n",
    "        if var_name in ds:\n",
    "            ds[var_name].values = ds[var_name].values - 273.15\n",
    "            ds[var_name].attrs[\"units\"] = \"°C\"\n",
    "\n",
    "    return ds\n",
    "\n",
    "\n",
    "def open_data(data_dir, var_name_list, run_name_list):\n",
    "    ds_list_list = list()\n",
    "    ds_land_use_list = list()\n",
    "\n",
    "    for run_name in run_name_list:\n",
    "        ds_list = list()\n",
    "\n",
    "        for var_name in var_name_list:\n",
    "            ds = xr.open_dataset(\n",
    "                f\"{data_dir}/{run_name}_2019070100_720_{var_name}_2019-07-01T01_2019-07-31T00_3600_regridded.nc\",\n",
    "                engine=\"netcdf4\",\n",
    "            )\n",
    "            ds_list.append(ds)\n",
    "\n",
    "        ds = xr.merge(ds_list, compat=\"minimal\")\n",
    "        ds_list_list.append(ds)\n",
    "\n",
    "        # Open the corresponding land use data (see next exercise)\n",
    "        ds_land_use = xr.open_dataset(\n",
    "            f\"{data_dir}/{run_name}_landuse_regridded.nc\",\n",
    "            engine=\"netcdf4\",\n",
    "            chunks=\"auto\",\n",
    "        )\n",
    "        ds_land_use_list.append(ds_land_use)\n",
    "\n",
    "    ds = xr.concat(ds_list_list, dim=\"run_name\")\n",
    "    ds_land_use = xr.concat(ds_land_use_list, dim=\"run_name\")\n",
    "\n",
    "    ds = xr.merge([ds, ds_land_use])\n",
    "    ds = convert_to_Celsius(ds)\n",
    "\n",
    "    return ds"
   ]
  },
  {
   "cell_type": "code",
   "execution_count": null,
   "metadata": {
    "tags": [
     "hide"
    ]
   },
   "outputs": [],
   "source": [
    "var_name_list = [\"tas\"]\n",
    "run_name_list = [\"initSFX\"]\n",
    "\n",
    "ds = open_data(data_dir, var_name_list, run_name_list)\n",
    "ds"
   ]
  },
  {
   "cell_type": "code",
   "execution_count": null,
   "metadata": {
    "tags": [
     "hide"
    ]
   },
   "outputs": [],
   "source": [
    "lat_rmi, lon_rmi = 50.799, 4.359\n",
    "ds_rmi = ds.sel(lon=lon_rmi, lat=lat_rmi, method=\"nearest\")\n",
    "ds_rmi"
   ]
  },
  {
   "cell_type": "code",
   "execution_count": null,
   "metadata": {
    "tags": [
     "hide"
    ]
   },
   "outputs": [],
   "source": [
    "# Change this to period of heat wave\n",
    "tstart = \"2019-07-22T01\"\n",
    "tstop = \"2019-07-27T00\"\n",
    "var_name = \"tas\"\n",
    "run_name = \"initSFX\"\n",
    "ds_rmi_period = ds_rmi.sel(time=slice(tstart, tstop), run_name=run_name)\n",
    "\n",
    "### Temperatures\n",
    "\n",
    "fig, ax = plt.subplots(figsize=(6.4, 4.8), layout=\"constrained\")\n",
    "\n",
    "var = ds_rmi_period[var_name]\n",
    "long_name = var.attrs[\"long_name\"]\n",
    "var.plot(ax=ax, x=\"time\", label=run_name)\n",
    "\n",
    "ax.set_title(f\"Temperature in Uccle\\nbetween {tstart} and {tstop}\")\n",
    "ax.axhline(25, linestyle=\"--\", color=\"grey\", label=\"T = 25°C\")\n",
    "ax.axhline(30, linestyle=\"--\", color=\"black\", label=\"T = 30°C\")\n",
    "ax.legend()\n",
    "\n",
    "plt.show()"
   ]
  },
  {
   "cell_type": "markdown",
   "metadata": {},
   "source": [
    "This five-day period just qualifies as a heat wave."
   ]
  },
  {
   "cell_type": "markdown",
   "metadata": {},
   "source": [
    "# 3. <a id='toc3_'></a>[Investigate UHI](#toc0_)\n",
    "\n",
    "In this next part of the practical, we will investigate the Urban Heat Island (UHI) in the simulations. We will do so by comparing the simulation to the MOCCA observational network. This network consists of 6 stations located in the city of Ghent. Each station is placed in a different urban environment, to gauge the influence of this environment on the micro-climate. One of these stations is located outside of the city, in Melle, and can be considered a rural station. We can define the UHI intensity by calculating the temperature difference between an urban and a rural station. This difference in temperature depends on the time of day. Therefore, the UHI is often studied by computing a so-called diurnal (or daily) cycle. This diurnal cycle is constructed by taking an average of the data over a certain period for each hour of the day. For example, all the data at midnight are averaged together, the data at 1:00, ... This diurnal cycle represents the variations throughout the day.\n",
    "\n",
    "For this exercise, we will work with the `tas`-variable from the `initSFX`-simulation from 1 July 2019 (720 hours). We will also need the land use information stored in `initSFX_landuse_regridded.nc`.  \n",
    "\n",
    "- Load in the MOCCA station data for the period of the heat wave. These data are stored in the file `MOCCA_tas_2019-07-22T01_2019-07-27T00.nc`. Explore the data.\n",
    "- Load in the simulation data together with the land use information. Write a function called `open_data`, which takes the data directory, variable names and run names and loads in the corresponding variables and land use information as one dataset.\n",
    "- Take a look at the land use data. How is this land use stored in the dataset?\n",
    "- We will now consider these locations in the simulation data. Select the points in the simulation data which are closest to each of the stations. Assign coordinates so that you get an xarray DataSet with the same dimensions as the observations: `(time, locations)`\n",
    "- For each of the locations, consider the town fraction. Select the locations with the lowest and highest town fraction from the stations. We will use these to represent rural and urban locations respectively.\n",
    "- For the period of the heat wave (22-26 July 2019), calculate the diurnal cycle of temperature for both locations for the simulation data. Plot the difference between the urban and rural diurnal cycles. Is a urban heat island present in the simulations? What is the UHI intensity? At what hours of the day is it the highest?\n",
    "- Repeat the previous step for the observational data. Compare this result with the simulation data.\n",
    "- Where does the difference in UHI intensity between the simulation and observations come from? Plot the bias of the diurnal cycle in temperature for both locations. Link the difference in UHI between the simulation and observations to the bias at the urban and rural locations."
   ]
  },
  {
   "cell_type": "markdown",
   "metadata": {},
   "source": [
    "## 3.1. <a id='toc3_1_'></a>[Solutions:](#toc0_)"
   ]
  },
  {
   "cell_type": "code",
   "execution_count": null,
   "metadata": {
    "tags": [
     "hide"
    ]
   },
   "outputs": [],
   "source": [
    "tstart = \"2019-07-22T01\"\n",
    "tstop = \"2019-07-27T00\"\n",
    "obs = xr.open_dataset(f\"{data_dir}/MOCCA_tas_{tstart}_{tstop}.nc\", engine=\"netcdf4\")\n",
    "obs"
   ]
  },
  {
   "cell_type": "code",
   "execution_count": null,
   "metadata": {
    "tags": [
     "hide"
    ]
   },
   "outputs": [],
   "source": [
    "var_name_list = [\"tas\"]\n",
    "run_name_list = [\"initSFX\"]\n",
    "ds = open_data(data_dir, var_name_list, run_name_list)\n",
    "ds"
   ]
  },
  {
   "cell_type": "markdown",
   "metadata": {},
   "source": [
    "The land use data is stored as fractions in the variables: frac_town, frac_water, frac_nature and frac_sea."
   ]
  },
  {
   "cell_type": "code",
   "execution_count": null,
   "metadata": {
    "tags": [
     "hide"
    ]
   },
   "outputs": [],
   "source": [
    "ds_locations_list = list()\n",
    "\n",
    "for location in obs.location:\n",
    "    lat = obs.lat.sel(location=location).values\n",
    "    lon = obs.lon.sel(location=location).values\n",
    "    ds_location = ds.sel(lat=lat, lon=lon, method=\"nearest\").sel(run_name=\"initSFX\")\n",
    "    ds_locations_list.append(ds_location.assign_coords(location=location.values))\n",
    "\n",
    "ds_locations = xr.concat(ds_locations_list, dim=\"location\")\n",
    "ds_locations"
   ]
  },
  {
   "cell_type": "code",
   "execution_count": null,
   "metadata": {
    "tags": [
     "hide"
    ]
   },
   "outputs": [],
   "source": [
    "ds_locations.frac_town.load()"
   ]
  },
  {
   "cell_type": "markdown",
   "metadata": {
    "tags": [
     "hide"
    ]
   },
   "source": [
    "Provinciehuis (and Sint-Bavo) have the highest town fraction (49 %); Melle has the lowest (7 %)."
   ]
  },
  {
   "cell_type": "code",
   "execution_count": null,
   "metadata": {
    "tags": [
     "hide"
    ]
   },
   "outputs": [],
   "source": [
    "fig, ax = plt.subplots()\n",
    "\n",
    "ds_uhi = ds_locations.sel(location=\"Provinciehuis\") - ds_locations.sel(location=\"Melle\")\n",
    "ds_uhi_period = ds_uhi.sel(time=slice(tstart, tstop))\n",
    "tas_uhi_dc = ds_uhi_period.groupby(\"time.hour\").mean().tas\n",
    "tas_uhi_dc.plot(ax=ax, label=\"UHI simulation\")\n",
    "\n",
    "obs_uhi = obs.sel(location=\"Provinciehuis\") - obs.sel(location=\"Melle\")\n",
    "obs_tas_uhi_dc = obs_uhi.groupby(\"time.hour\").mean().tas\n",
    "obs_tas_uhi_dc.plot(ax=ax, label=\"UHI observations\")\n",
    "\n",
    "ax.set_title(f\"UHI Intensity for period\\nbetween {tstart} and {tstop}\")\n",
    "ax.set_ylabel(\"Temperature [°C]\")\n",
    "ax.legend()\n",
    "\n",
    "plt.show()"
   ]
  },
  {
   "cell_type": "markdown",
   "metadata": {
    "tags": [
     "hide"
    ]
   },
   "source": [
    "An nightly UHI is present in the simulations but it is quite small, with a magnitude of only 0.5°C. On the other hand, the observations exhibit a very clear and strong UHI with a magnitude of up to 4°C."
   ]
  },
  {
   "cell_type": "code",
   "execution_count": null,
   "metadata": {
    "tags": [
     "hide"
    ]
   },
   "outputs": [],
   "source": [
    "bias = (ds_locations - obs).sel(location=[\"Melle\", \"Provinciehuis\"])\n",
    "bias_tas_dc = bias.groupby(\"time.hour\").mean().tas\n",
    "\n",
    "fig, ax = plt.subplots()\n",
    "bias_tas_dc.plot(ax=ax, hue=\"location\")\n",
    "ax.set_title(\n",
    "    f\"Bias in near-surface air temperature for period\\nbetween {tstart} and {tstop}\"\n",
    ")\n",
    "ax.set_ylabel(\"Temperature [°C]\")\n",
    "\n",
    "plt.show()"
   ]
  },
  {
   "cell_type": "markdown",
   "metadata": {},
   "source": [
    "Plotting the bias in both locations shows that the simulations are too warm compared to the observations. However, at nighttime in Melle, the warm bias is more than 3 degrees higher in Melle, which explains why the UHI is much less present in the simulations.\n",
    "\n",
    "If we take $T^S_U$ and $T^S_R$ as the simulated temperatures for respectively an urban and rural location, and $T^O_U$ and $T^O_R$ for the observational values, we can connect the UHI values with the biases as follows:\n",
    "$$UHI^S = T^S_U - T^S_R \\text{ and } UHI^O = T^O_U - T^O_R$$\n",
    "$$BIAS_R = T^S_R - T^O_R \\text{ and } BIAS_U = T^S_U - T^O_U$$\n",
    "$$\\Longrightarrow BIAS_U - BIAS_R = UHI^S - UHI^O$$"
   ]
  },
  {
   "cell_type": "markdown",
   "metadata": {},
   "source": [
    "# 4. <a id='toc4_'></a>[Energy exchange with the surface](#toc0_)\n",
    "\n",
    "An important factor which influences the state of the atmosphere, and hence the weather, is its interaction with the surface. This interaction can be represented as the exchange of energy in the form of fluxes. We consider three types of energy exchange: radiation, sensible heat flux and latent heat flux. The variable names corresponding to these fluxes are respectively `rnetds`, `hfss` and `hfls`.\n",
    "\n",
    "- Load in the simulation data of these fluxes for the `initSFX`-simulation from 1 July 2019 (720 hours).\n",
    "- What are the units of these fluxes?\n",
    "- Select again the data from Uccle and from the period between 22 and 26 July 2019. Plot the ernergy fluxes in function of time. \n",
    "- We will now determine the sign of these fluxes:\n",
    "    - The radiation flux `rnetds` is the net radiation flux: it is the difference between the incoming and outgoing radiation. The incoming radiation is primarily shortwave radiation: either direct (from the Sun) or diffuse (scattered solar radiation). The outgoing radiation is emmited by the surface itself; it is longwave radiation. The difference between these two contributions is the net radiation flux. When is this variable positive and negative? What does this mean: is a positive flux directed into or out of the surface?\n",
    "    - The sensible heat flux `hfss` is the heat transfer caused by the temperature difference between the surface and the atmosphere. The heat is transfered from the medium with the highest temperature to the medium with the lowest temperature. Compare the near-surface air temperature (`tas`) with the surface temperature (`ts`). Use this difference between `ts` and `ts` to derive the sign of the sensible heat flux.\n",
    "    - The latent heat flux is caused by the evaporation of soil moisture. This evaporation requires latent heat for the phase transition between the liquid and vapor phase. This heat is extracted from the soil, which causes it to cool. Consider the latent heat flux. In what direction is the postive latent heat flux defined? \n",
    "- Calculate the net energy flux into the surface by adding or subtracting (depending on how the direction is defined) the three flux contributions. Compare this with the surface temperature, stored in the variable `ts`."
   ]
  },
  {
   "cell_type": "markdown",
   "metadata": {},
   "source": [
    "## 4.1. <a id='toc4_1_'></a>[Solutions:](#toc0_)"
   ]
  },
  {
   "cell_type": "code",
   "execution_count": null,
   "metadata": {
    "tags": [
     "hide"
    ]
   },
   "outputs": [],
   "source": [
    "var_name_list = [\"rnetds\", \"hfss\", \"hfls\", \"tas\", \"ts\"]\n",
    "run_name_list = [\"initSFX\"]\n",
    "ds = open_data(data_dir, var_name_list, run_name_list)\n",
    "ds"
   ]
  },
  {
   "cell_type": "code",
   "execution_count": null,
   "metadata": {
    "tags": [
     "hide"
    ]
   },
   "outputs": [],
   "source": [
    "lat_rmi, lon_rmi = 50.799, 4.359\n",
    "ds_rmi = ds.sel(lon=lon_rmi, lat=lat_rmi, method=\"nearest\")\n",
    "\n",
    "tstart = \"2019-07-22T01\"\n",
    "tstop = \"2019-07-27T00\"\n",
    "run_name = \"initSFX\"\n",
    "ds_rmi_period = ds_rmi.sel(time=slice(tstart, tstop), run_name=run_name)\n",
    "\n",
    "fig, ax = plt.subplots(layout=\"constrained\")\n",
    "\n",
    "ds_rmi_period.hfls.plot(ax=ax, x=\"time\", label=\"Latent heat flux\")\n",
    "ds_rmi_period.hfss.plot(ax=ax, x=\"time\", label=\"Sensible heat flux\")\n",
    "ds_rmi_period.rnetds.plot(ax=ax, x=\"time\", label=\"Net radiation flux\")\n",
    "\n",
    "ax.set_title(f\"Surface energy exchange fluxes\\nbetween {tstart} and {tstop}\")\n",
    "ax.set_ylabel(\"Energy flux [W m-2]\")\n",
    "\n",
    "ax.axhline(linestyle=\"--\", color=\"k\", alpha=0.5, label=\"Flux = 0 W m-2\")\n",
    "ax.legend()"
   ]
  },
  {
   "cell_type": "markdown",
   "metadata": {
    "tags": [
     "hide"
    ]
   },
   "source": [
    "The net radiation flux is positive by day and negative by night. During daytime the net radiation flux is dominated by incoming solar radiation. This means that a positive sign for this flux denotes an energy flux going into the surface."
   ]
  },
  {
   "cell_type": "code",
   "execution_count": null,
   "metadata": {
    "tags": [
     "hide"
    ]
   },
   "outputs": [],
   "source": [
    "fig, ax = plt.subplots(layout=\"constrained\")\n",
    "\n",
    "hfss = ds_rmi_period.hfss\n",
    "temp_diff = ds_rmi_period.tas - ds_rmi_period.ts\n",
    "\n",
    "hfss.plot(ax=ax, x=\"time\", label=\"Sensible heat flux\", alpha=0.7)\n",
    "hfss.where(temp_diff > 0).plot.scatter(ax=ax, x=\"time\", label=\"tas - ts > 0\")\n",
    "hfss.where(temp_diff < 0).plot.scatter(ax=ax, x=\"time\", label=\"tas - ts < 0\")\n",
    "\n",
    "ax.set_title(f\"Sensible heat flux\\nbetween {tstart} and {tstop}\")\n",
    "ax.set_ylabel(\"Energy flux [W m-2]\")\n",
    "\n",
    "ax.axhline(linestyle=\"--\", color=\"k\", alpha=0.5, label=\"Zero\")\n",
    "ax.legend()\n",
    "\n",
    "plt.show()"
   ]
  },
  {
   "cell_type": "markdown",
   "metadata": {
    "tags": [
     "hide"
    ]
   },
   "source": [
    "The sensible heat flux is postive when the air temperature is smaller than the surface temperature. In that case the sensible heat flux is directed out of the surface, as it follows the direction from the warmer medium to the colder. Therefore, we can conclude that a postive sensible heat flux is defined as a flux going out of the soil."
   ]
  },
  {
   "cell_type": "markdown",
   "metadata": {
    "tags": [
     "hide"
    ]
   },
   "source": [
    "The latent heat flux is positive by day and (almost) zero by night. During the day the evaporation of soil moisture is highest. Therefore, it follows that a positive latent heat flux is defined as going out of the surface. The latent heat flux never becomes negative."
   ]
  },
  {
   "cell_type": "code",
   "execution_count": null,
   "metadata": {
    "tags": [
     "hide"
    ]
   },
   "outputs": [],
   "source": [
    "fig, ax = plt.subplots(layout=\"constrained\")\n",
    "\n",
    "netflux = ds_rmi_period.rnetds - ds_rmi_period.hfss - ds_rmi_period.hfls\n",
    "netflux.plot(ax=ax, x=\"time\", label=\"Net ground flux\")\n",
    "\n",
    "ax.set_title(f\"Net ground flux\\nbetween {tstart} and {tstop}\")\n",
    "ax.set_ylabel(\"Energy flux [W m-2]\")\n",
    "\n",
    "ax.axhline(linestyle=\"--\", color=\"k\", alpha=0.5, label=\"Zero\")\n",
    "ax.legend()\n",
    "\n",
    "plt.show()"
   ]
  },
  {
   "cell_type": "code",
   "execution_count": null,
   "metadata": {
    "tags": [
     "hide"
    ]
   },
   "outputs": [],
   "source": [
    "fig, ax = plt.subplots(layout=\"constrained\")\n",
    "\n",
    "tas = ds_rmi_period.tas\n",
    "ts = ds_rmi_period.ts\n",
    "\n",
    "tas.plot(label=\"Near-Surface Air Temperature\")\n",
    "ts.plot(label=\"Surface Temperature\")\n",
    "ts.where(netflux > 0).plot.scatter(color=\"green\", label=\"ts when netflux > 0\")\n",
    "ts.where(netflux < 0).plot.scatter(color=\"red\", label=\"ts when netflux < 0\")\n",
    "\n",
    "ax.set_title(f\"Surface energy exchange fluxes\\nbetween {tstart} and {tstop}\")\n",
    "\n",
    "ax.legend()"
   ]
  },
  {
   "cell_type": "markdown",
   "metadata": {},
   "source": [
    "For the most part, the soil heats up when the net energy flux is positive, and it cools down when it is negative. However, this is not fully valid. The temperature already peaks before the flux changes sign. This can be explained by the presence of a second flux, going from the upper layer of the soil into the deeper layer."
   ]
  },
  {
   "cell_type": "markdown",
   "metadata": {},
   "source": [
    "# 5. <a id='toc5_'></a>[Cold start vs. soil spin-up](#toc0_)"
   ]
  },
  {
   "cell_type": "markdown",
   "metadata": {},
   "source": [
    "In this practical, we have discussed the interaction between the surface and the atmosphere through fluxes. The simulation we discussed previously, `initSFX`, has been run with an initial surface state that was taken from a long-term climate simulation. This allows the soil variables to start from a state that was in equilibrium with the atmospheric variables. As these soil variables (such as temperature and moisture) are slowly-evolving, particularly the deep soil variables, the time to reach this equilibrium in a simulation can be of the order of months.\n",
    "\n",
    "On the other hand, we have also run a simulation with a default initial surface state (we call this a cold start). This simulation is the `baseline`-simulation (also used in the practical about the Vesder case). For this simulation, the soil moisture and temperature variables are not yet in an equilibrium state and will hence first evolve towards this state. This will impact the atmospheric variables close to the surface. The process where a model moves towards an equilibrium state is called the spin-up period.\n",
    "\n",
    "Investigate this by following these steps:\n",
    "- Load in the following variables for the `baseline`- and `initSFX`-simulations for the simulations starting on 1 July 2019 (720 hours):\n",
    "    - `tas`: near-surface air temperature\n",
    "    - `hfss`, `hfls`, `rnetds`: surface energy fluxes\n",
    "    - `ts`: surface temperature\n",
    "    - `mrso`: total soil moisture\n",
    "    - `tsl2`: deep soil temperature\n",
    "- Select the data at the locations of the MOCCA stations for the heatwave period (22-26 July 2019). Plot the temperature for both simulations and compare to the observations. Which simulation performs best?\n",
    "- Plot the average over the simulation domain of all variables. How can you see the behaviour of moving to equilibrium from these plots? Can you explain the differences between these two simulations? Think about how these variables influence each other and explain how these differences are connected."
   ]
  },
  {
   "cell_type": "markdown",
   "metadata": {},
   "source": [
    "## 5.1. <a id='toc5_1_'></a>[Solutions:](#toc0_)"
   ]
  },
  {
   "cell_type": "code",
   "execution_count": null,
   "metadata": {
    "tags": [
     "hide"
    ]
   },
   "outputs": [],
   "source": [
    "var_name_list = [\"hfls\", \"hfss\", \"rnetds\", \"tas\", \"ts\", \"mrso\", \"tsl2\"]\n",
    "run_name_list = [\"baseline\", \"initSFX\"]\n",
    "ds = open_data(data_dir, var_name_list, run_name_list)\n",
    "ds"
   ]
  },
  {
   "cell_type": "code",
   "execution_count": null,
   "metadata": {
    "tags": [
     "hide"
    ]
   },
   "outputs": [],
   "source": [
    "tstart = \"2019-07-22T01\"\n",
    "tstop = \"2019-07-27T00\"\n",
    "obs = xr.open_dataset(f\"{data_dir}/MOCCA_tas_{tstart}_{tstop}.nc\", engine=\"netcdf4\")\n",
    "obs"
   ]
  },
  {
   "cell_type": "code",
   "execution_count": null,
   "metadata": {
    "tags": [
     "hide"
    ]
   },
   "outputs": [],
   "source": [
    "ds_locations_list = list()\n",
    "\n",
    "for location in obs.location:\n",
    "    lat = obs.lat.sel(location=location).values\n",
    "    lon = obs.lon.sel(location=location).values\n",
    "    ds_location = ds.sel(lat=lat, lon=lon, method=\"nearest\")\n",
    "    ds_locations_list.append(ds_location.assign_coords(location=location.values))\n",
    "\n",
    "ds_locations = xr.concat(ds_locations_list, dim=\"location\")\n",
    "ds_locations"
   ]
  },
  {
   "cell_type": "code",
   "execution_count": null,
   "metadata": {
    "tags": [
     "hide"
    ]
   },
   "outputs": [],
   "source": [
    "g = (ds_locations.tas - obs.tas).plot(x=\"time\", hue=\"location\", col=\"run_name\")"
   ]
  },
  {
   "cell_type": "code",
   "execution_count": null,
   "metadata": {
    "tags": [
     "hide"
    ]
   },
   "outputs": [],
   "source": [
    "(ds_locations.tas - obs.tas).mean(dim=\"time\")"
   ]
  },
  {
   "cell_type": "markdown",
   "metadata": {
    "tags": [
     "hide"
    ]
   },
   "source": [
    "The baseline simulation (with a cold start) has a significant cold bias between 2 and 3 degrees for all 6 MOCCA locations. The spun-up simulation has a warm bias between 1 and 2 degrees (with 2.7 degrees at one location). We can conclude that the simulation without spin-up performs best, as the bias is closest to zero."
   ]
  },
  {
   "cell_type": "code",
   "execution_count": null,
   "metadata": {
    "tags": [
     "hide"
    ]
   },
   "outputs": [],
   "source": [
    "ds_vars = ds[var_name_list]\n",
    "da_vars = ds_vars.to_dataarray()\n",
    "da_vars_mean = da_vars.mean(dim=[\"lat\", \"lon\"])\n",
    "da_vars_mean.plot(x=\"time\", col=\"variable\", hue=\"run_name\", sharey=False)"
   ]
  },
  {
   "cell_type": "code",
   "execution_count": null,
   "metadata": {
    "tags": [
     "hide"
    ]
   },
   "outputs": [],
   "source": [
    "da_vars_mean.diff(\"run_name\").plot(x=\"time\", col=\"variable\", sharey=False)"
   ]
  },
  {
   "cell_type": "markdown",
   "metadata": {},
   "source": [
    "We can conclude a lot from these plots:\n",
    "Firstly, from the soil moisture plot `mrso`, we can clearly see the effect of the spin-up on this variable. The simulation with a cold start first has to relax to a state with a drier soil, while the other simulation does not. This process is paired with a larger latent heat flux (because of the excess evaporation) in the cold start-simulation. This inhibits the surface from heating up in this simulation and cause the surface temperature to be colder. This, in turn, leads to a colder near-surface air temperature. The air temperature is higher in the simulation with spin-up period, because of the higher sensible heat flux. "
   ]
  },
  {
   "cell_type": "markdown",
   "metadata": {},
   "source": [
    "# 6. <a id='toc6_'></a>[Extra 1. Locations with a heatwave](#toc0_)\n",
    "\n",
    "This extra exercise concerns the definition of a heat wave, as employed by the Belgian Royal Meteorological Institute. There, a heat wave period is defined as a period when the maximum temperatures in Uccle reach at least 25 degrees for at least 5 consecutive days, with at least 30 degrees being reached on at least three days. Write an algorithm to automatically detect heatwaves based on daily maximum temperatures. It is best to write it in two steps: 1) Select all periods which have at least five consecutive days above 25°C. 2) Check which of these periods contain at least three days with a temperature above 30°C. \n",
    "\n",
    "- Apply this algorithm on every point in the simulation dataset. What is the maximum number of heatwave days that you find over the domain?\n",
    "- Apply this to the CLIMATE-GRID dataset. The daily maximum temperature file is named: `CLIMATE_GRID_tasmax_2019_07_daily_latlon_5km.nc`. How long are the heat waves in this dataset?"
   ]
  },
  {
   "cell_type": "markdown",
   "metadata": {},
   "source": [
    "## 6.1. <a id='toc6_1_'></a>[Solutions:](#toc0_)"
   ]
  },
  {
   "cell_type": "markdown",
   "metadata": {
    "tags": [
     "hide"
    ]
   },
   "source": [
    "When running all cells the notebook keeps inexplicably crashing. That is why we perform a manual reset here. Some cells need to be rerun here, such as the import of packages."
   ]
  },
  {
   "cell_type": "code",
   "execution_count": null,
   "metadata": {
    "tags": [
     "hide"
    ]
   },
   "outputs": [],
   "source": [
    "%reset -f"
   ]
  },
  {
   "cell_type": "code",
   "execution_count": null,
   "metadata": {
    "tags": [
     "hide"
    ]
   },
   "outputs": [],
   "source": [
    "import xarray as xr\n",
    "import matplotlib.pyplot as plt\n",
    "import xarray as xr\n",
    "import matplotlib.pyplot as plt\n",
    "\n",
    "%matplotlib inline\n",
    "%config InlineBackend.figure_format = 'png'\n",
    "\n",
    "# Change to directory where data is stored\n",
    "data_dir = \"/kyukon/data/gent/courses/2024/computphys_C004504/input\"\n",
    "\n",
    "\n",
    "def convert_to_Celsius2(ds):\n",
    "    for var_name in [\"tas\", \"tasmax\", \"tasmin\", \"ts\", \"tsl1\", \"tsl2\", \"troad1\"]:\n",
    "        if var_name in ds:\n",
    "            ds[var_name].values = ds[var_name].values - 273.15\n",
    "            ds[var_name].attrs[\"units\"] = \"°C\"\n",
    "\n",
    "    return ds\n",
    "\n",
    "\n",
    "def open_data(data_dir, var_name_list, run_name_list):\n",
    "    ds_list_list = list()\n",
    "    ds_land_use_list = list()\n",
    "\n",
    "    for run_name in run_name_list:\n",
    "        ds_list = list()\n",
    "\n",
    "        for var_name in var_name_list:\n",
    "            ds = xr.open_dataset(\n",
    "                f\"{data_dir}/{run_name}_2019070100_720_{var_name}_2019-07-01T01_2019-07-31T00_3600_regridded.nc\",\n",
    "                engine=\"netcdf4\",\n",
    "            )\n",
    "            ds_list.append(ds)\n",
    "\n",
    "        ds = xr.merge(ds_list, compat=\"minimal\")\n",
    "        ds_list_list.append(ds)\n",
    "\n",
    "        # Open the corresponding land use data (see next exercise)\n",
    "        ds_land_use = xr.open_dataset(\n",
    "            f\"{data_dir}/{run_name}_landuse_regridded.nc\",\n",
    "            engine=\"netcdf4\",\n",
    "            chunks=\"auto\",\n",
    "        )\n",
    "        ds_land_use_list.append(ds_land_use)\n",
    "\n",
    "    ds = xr.concat(ds_list_list, dim=\"run_name\")\n",
    "    ds_land_use = xr.concat(ds_land_use_list, dim=\"run_name\")\n",
    "\n",
    "    ds = xr.merge([ds, ds_land_use])\n",
    "    ds = convert_to_Celsius2(ds)\n",
    "\n",
    "    return ds"
   ]
  },
  {
   "cell_type": "code",
   "execution_count": null,
   "metadata": {
    "tags": [
     "hide"
    ]
   },
   "outputs": [],
   "source": [
    "var_name_list = [\"tas\"]\n",
    "run_name_list = [\"initSFX\"]\n",
    "\n",
    "ds = open_data(data_dir, var_name_list, run_name_list)\n",
    "ds"
   ]
  },
  {
   "cell_type": "markdown",
   "metadata": {
    "tags": [
     "hide"
    ]
   },
   "source": [
    "The solution starts here:"
   ]
  },
  {
   "cell_type": "code",
   "execution_count": null,
   "metadata": {
    "tags": [
     "hide"
    ]
   },
   "outputs": [],
   "source": [
    "tasmax = ds.tas.coarsen(time=24).max().sel(run_name=\"initSFX\")\n",
    "tasmax"
   ]
  },
  {
   "cell_type": "code",
   "execution_count": null,
   "metadata": {
    "tags": [
     "hide"
    ]
   },
   "outputs": [],
   "source": [
    "def calc_heatwave_days_point(tasmax_point):\n",
    "    # Initialize a boolean array\n",
    "    heatwave_days_point = np.zeros_like(tasmax_point, dtype=bool)\n",
    "\n",
    "    # Identify days above 25°C (potential heatwave days)\n",
    "    heatwave_start = tasmax_point > 25\n",
    "\n",
    "    # Find transitions to and from heatwave periods\n",
    "    transitions = np.diff(heatwave_start.astype(int))\n",
    "\n",
    "    # Get start and stop indices of heatwaves\n",
    "    start_list = np.where(transitions == 1)[0] + 1\n",
    "    stop_list = np.where(transitions == -1)[0]\n",
    "\n",
    "    # Handle the edge case where a heatwave starts but doesn't end\n",
    "    if heatwave_start[0]:\n",
    "        start_list = np.insert(start_list, 0, 0)\n",
    "    if heatwave_start[-1]:\n",
    "        stop_list = np.append(stop_list, len(tasmax_point) - 1)\n",
    "\n",
    "    # Validate the start/stop pair lengths\n",
    "    assert len(start_list) == len(stop_list)\n",
    "\n",
    "    # Filter heatwaves: periods where >3 days exceed 30°C\n",
    "    for start, stop in zip(start_list, stop_list):\n",
    "        tasmax_period = tasmax_point[start : stop + 1]\n",
    "        days_above_30 = (tasmax_period > 30).sum()\n",
    "        if days_above_30 >= 3 and len(tasmax_period) >= 5:\n",
    "            heatwave_days_point[start : stop + 1] = True\n",
    "\n",
    "    return heatwave_days_point"
   ]
  },
  {
   "cell_type": "code",
   "execution_count": null,
   "metadata": {
    "tags": [
     "hide"
    ]
   },
   "outputs": [],
   "source": [
    "def calc_heatwave_days(tasmax):\n",
    "    # Apply the function using xarray's apply_ufunc\n",
    "    heatwave_days = xr.apply_ufunc(\n",
    "        calc_heatwave_days_point,  # Function to apply\n",
    "        tasmax,  # Dataset\n",
    "        input_core_dims=[[\"time\"]],  # Apply along 'time'\n",
    "        output_core_dims=[[\"time\"]],\n",
    "        vectorize=True,  # Vectorize over lat/lon\n",
    "        output_dtypes=[bool],  # Output type\n",
    "        dask=\"parallelized\",  # Enable Dask support if needed\n",
    "    )\n",
    "\n",
    "    return heatwave_days"
   ]
  },
  {
   "cell_type": "code",
   "execution_count": null,
   "metadata": {
    "tags": [
     "hide"
    ]
   },
   "outputs": [],
   "source": [
    "heatwave_days = calc_heatwave_days(tasmax)"
   ]
  },
  {
   "cell_type": "code",
   "execution_count": null,
   "metadata": {
    "tags": [
     "hide"
    ]
   },
   "outputs": [],
   "source": [
    "fig, ax = plt.subplots(\n",
    "    subplot_kw={\"projection\": ccrs.PlateCarree()}, figsize=(9, 6), layout=\"constrained\"\n",
    ")\n",
    "heatwave_days.sum(dim=\"time\").plot(x=\"lon\", y=\"lat\", ax=ax)\n",
    "ax.set_aspect(14 / 9)\n",
    "ax.coastlines()\n",
    "ax.add_feature(cfeature.BORDERS, linestyle=\"--\", alpha=0.5)\n",
    "ax.set_title(\"Number of heatwave days in simulation\");"
   ]
  },
  {
   "cell_type": "code",
   "execution_count": null,
   "metadata": {
    "tags": [
     "hide"
    ]
   },
   "outputs": [],
   "source": [
    "heatwave_days_sum = heatwave_days.sum(dim=\"time\")\n",
    "heatwave_days_sum_max = heatwave_days_sum.max()\n",
    "heatwave_days_sum_max_coords = (\n",
    "    heatwave_days_sum.where(heatwave_days_sum == heatwave_days_sum_max, drop=True)\n",
    "    .stack(z=(\"lat\", \"lon\"))\n",
    "    .coords[\"z\"]\n",
    ")\n",
    "heatwave_days_sum_max_coords"
   ]
  },
  {
   "cell_type": "markdown",
   "metadata": {
    "tags": [
     "hide"
    ]
   },
   "source": [
    "Let's select one of the points with the most heatwave days"
   ]
  },
  {
   "cell_type": "code",
   "execution_count": null,
   "metadata": {
    "tags": [
     "hide"
    ]
   },
   "outputs": [],
   "source": [
    "lat = 49\n",
    "lon = 2.14\n",
    "heatwave_days_point = heatwave_days.sel(lat=lat, lon=lon)\n",
    "tasmax_point = tasmax.sel(lon=lon, lat=lat)\n",
    "\n",
    "fig, ax = plt.subplots()\n",
    "tasmax_point.plot(ax=ax)\n",
    "tasmax_point.where(heatwave_days_point).plot.scatter(ax=ax, color=\"orange\")\n",
    "ax.axhline(25, linestyle=\"--\", color=\"grey\")\n",
    "ax.axhline(30, linestyle=\"--\", color=\"k\")\n",
    "ax.set_title(f\"Temperature in {lat:.1f} N, {lon:.2f} E\");"
   ]
  },
  {
   "cell_type": "markdown",
   "metadata": {
    "tags": [
     "hide"
    ]
   },
   "source": [
    "Let's now look at the CLIMATE-GRID data:"
   ]
  },
  {
   "cell_type": "code",
   "execution_count": null,
   "metadata": {
    "tags": [
     "hide"
    ]
   },
   "outputs": [],
   "source": [
    "filepath = f\"{data_dir}/CLIMATE_GRID_tasmax_2019_07_daily_latlon_5km.nc\"\n",
    "obs_ds = xr.open_dataset(filepath, engine=\"netcdf4\", chunks=\"auto\")\n",
    "obs_ds = convert_to_Celsius2(obs_ds)\n",
    "obs_ds"
   ]
  },
  {
   "cell_type": "code",
   "execution_count": null,
   "metadata": {
    "tags": [
     "hide"
    ]
   },
   "outputs": [],
   "source": [
    "obs_tasmax = obs_ds.tasmax\n",
    "obs_tasmax"
   ]
  },
  {
   "cell_type": "code",
   "execution_count": null,
   "metadata": {
    "tags": [
     "hide"
    ]
   },
   "outputs": [],
   "source": [
    "obs_heatwave_days = calc_heatwave_days(obs_tasmax)\n",
    "\n",
    "fig, ax = plt.subplots(\n",
    "    subplot_kw={\"projection\": ccrs.PlateCarree()}, figsize=(9, 6), layout=\"constrained\"\n",
    ")\n",
    "obs_heatwave_days.sum(dim=\"time\").plot(x=\"lon\", y=\"lat\", ax=ax)\n",
    "ax.set_aspect(14 / 9)\n",
    "ax.coastlines()\n",
    "ax.add_feature(cfeature.BORDERS, linestyle=\"--\", alpha=0.5)\n",
    "ax.set_title(\"Number of heatwave days in CLIMATE-GRID\");"
   ]
  },
  {
   "cell_type": "code",
   "execution_count": null,
   "metadata": {
    "tags": [
     "hide"
    ]
   },
   "outputs": [],
   "source": [
    "obs_heatwave_days_sum = obs_heatwave_days.sum(dim=\"time\", skipna=False)\n",
    "obs_heatwave_days_sum_max = obs_heatwave_days_sum.max()\n",
    "obs_heatwave_days_sum_max_coords = (\n",
    "    obs_heatwave_days_sum.where(\n",
    "        obs_heatwave_days_sum == obs_heatwave_days_sum_max, drop=True\n",
    "    )\n",
    "    .stack(z=(\"lat\", \"lon\"))\n",
    "    .coords[\"z\"]\n",
    ")\n",
    "obs_heatwave_days_sum_max_coords"
   ]
  },
  {
   "cell_type": "code",
   "execution_count": null,
   "metadata": {
    "tags": [
     "hide"
    ]
   },
   "outputs": [],
   "source": [
    "lat = 50.125\n",
    "lon = 4.800000000000001\n",
    "obs_heatwave_days_point = obs_heatwave_days.sel(lat=lat, lon=lon)\n",
    "obs_tasmax_point = obs_tasmax.sel(lon=lon, lat=lat)\n",
    "\n",
    "fig, ax = plt.subplots()\n",
    "obs_tasmax_point.plot(ax=ax)\n",
    "obs_tasmax_point.where(obs_heatwave_days_point).plot.scatter(ax=ax, color=\"orange\")\n",
    "ax.axhline(25, linestyle=\"--\", color=\"grey\")\n",
    "ax.axhline(30, linestyle=\"--\", color=\"k\")\n",
    "ax.set_title(f\"Temperature in {lat:.1f} N, {lon:.2f} E\");"
   ]
  },
  {
   "cell_type": "markdown",
   "metadata": {},
   "source": [
    "# 7. <a id='toc7_'></a>[Extra 2. Simulation without urban areas](#toc0_)\n",
    "\n",
    "The model which we have used for all simulations consists of an atmospheric part, ALARO, and a surface module, SURFEX. The interaction between the atmosphere and the surface is an important part of weather and climate modelling. These interactions depend heavily on the type of surface. SURFEX tackles this variety by considering four classes of surface: sea, (inland) water, town and nature. Based on an external dataset (ECOCLIMAP) every grid box of the model is assigned a certain fraction of each of these four classes. For example, for a model with a resolution of 4-km, we could find a grid box in a small town with 30 % town fraction and 70 % nature fraction. Also, a grid box containing a city by the coast could have a town fraction of 25 %, a nature fraction of 20 % and a sea fraction of 55 %. Note that the fractions for each grid box necessarily always sum to 100 %. Every part of the grid box is calculated separately by a different sub-module, specific to the surface type. The output of these calculations (for example the near-surface air temperature) are then aggregated for the whole grid box, by taking a weighted average, with the land use fractions taken as weights. \n",
    "\n",
    "We will now investigate a simulation where we made some changes to the land use. For this simulation, we have taken every urban area and put it equal to rock. Normally, urban areas are calculated by the TEB (Town Energy Balance)-module, therefore we denote this simulation by `noTEB`. Explore this simulation by following the next steps:\n",
    "- Load in the `tas` (near-surface air temperature) data for the simulations `initSFX` (with towns) and `initSFXnoTEB` (without towns) for the simulation starting on 1 July 2019 (720 hours). Select the period of the heat wave: 22 until 26 July 2019. \n",
    "- Load in the `land_use` data for both simulations. Plot all fractions for both simulations and verify the differences are as expected.\n",
    "- Select only the data from points which have a town fraction higher than 20 % in the `initSFX`-simulations. Select these points for both simulations. In the `initSFXnoTEB`-simulation these points will have a 0 % town fraction.\n",
    "- Calculate the average diurnal cycle of the temperature averaged over all points for both simulations. The average diurnal (or daily) cycle is calculated by taking the average of a variable for each hour of the day. The `groupby`-function from xarray will prove useful for this part.\n",
    "- Compare the diurnal cycles for both simulations. What do you see? Plot the difference between both cycles. When is the difference largest?"
   ]
  },
  {
   "cell_type": "markdown",
   "metadata": {},
   "source": [
    "## 7.1. <a id='toc7_1_'></a>[Solutions:](#toc0_)"
   ]
  },
  {
   "cell_type": "code",
   "execution_count": null,
   "metadata": {
    "tags": [
     "hide"
    ]
   },
   "outputs": [],
   "source": [
    "var_name_list = [\"tas\"]\n",
    "run_name_list = [\"initSFX\", \"initSFXnoTEB\"]\n",
    "ds = open_data(data_dir, var_name_list, run_name_list)\n",
    "ds"
   ]
  },
  {
   "cell_type": "code",
   "execution_count": null,
   "metadata": {
    "tags": [
     "hide"
    ]
   },
   "outputs": [],
   "source": [
    "ds_land_use = ds[[\"frac_town\", \"frac_nature\", \"frac_sea\", \"frac_water\"]]\n",
    "ds_land_use.to_dataarray().plot(row=\"run_name\", col=\"variable\")\n",
    "plt.show()"
   ]
  },
  {
   "cell_type": "markdown",
   "metadata": {
    "tags": [
     "hide"
    ]
   },
   "source": [
    "Only the town and nature fractions differ between both simulations. The town fraction is zero as expected in `initSFXnoTEB`."
   ]
  },
  {
   "cell_type": "code",
   "execution_count": null,
   "metadata": {
    "tags": [
     "hide"
    ]
   },
   "outputs": [],
   "source": [
    "frac_town = ds_land_use.frac_town.sel(run_name=\"initSFX\")\n",
    "town_mask = frac_town > 0.2\n",
    "\n",
    "fig, ax = plt.subplots(subplot_kw={\"projection\": ccrs.PlateCarree()})\n",
    "town_mask.plot(ax=ax)\n",
    "ax.set_title(\"All points with a town fraction above 20 %\")\n",
    "ax.set_aspect(14 / 9)\n",
    "ax.coastlines()\n",
    "ax.add_feature(cfeature.BORDERS, linestyle=\"--\", alpha=0.5)"
   ]
  },
  {
   "cell_type": "code",
   "execution_count": null,
   "metadata": {
    "tags": [
     "hide"
    ]
   },
   "outputs": [],
   "source": [
    "tstart = \"2019-07-22T01\"\n",
    "tstop = \"2019-07-27T00\"\n",
    "\n",
    "ds_period = ds.sel(time=slice(tstart, tstop))\n",
    "tas_period = ds_period.tas\n",
    "tas_period_town_mask = tas_period.where(town_mask)\n",
    "tas_period_town_mask_diurnal_cycle = tas_period_town_mask.groupby(\"time.hour\").mean()\n",
    "\n",
    "tas_dc = tas_period_town_mask_diurnal_cycle.mean(dim=[\"lat\", \"lon\"])\n",
    "tas_nature_dc = tas_dc.sel(run_name=\"initSFXnoTEB\")\n",
    "tas_town_dc = tas_dc.sel(run_name=\"initSFX\")\n",
    "\n",
    "fig, ax = plt.subplots()\n",
    "(tas_town_dc - tas_nature_dc).plot(ax=ax, x=\"hour\", label=\"TEB - noTEB\")\n",
    "ax.legend()\n",
    "ax.set_title(\"Diurnal cycle of difference in temperature\\nin urban points\")"
   ]
  }
 ],
 "metadata": {
  "kernelspec": {
   "display_name": "Python 3 (ipykernel)",
   "language": "python",
   "name": "python3"
  },
  "language_info": {
   "codemirror_mode": {
    "name": "ipython",
    "version": 3
   },
   "file_extension": ".py",
   "mimetype": "text/x-python",
   "name": "python",
   "nbconvert_exporter": "python",
   "pygments_lexer": "ipython3"
  }
 },
 "nbformat": 4,
 "nbformat_minor": 4
}
