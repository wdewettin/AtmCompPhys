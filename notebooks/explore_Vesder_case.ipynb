{
 "cells": [
  {
   "cell_type": "markdown",
   "metadata": {},
   "source": [
    "# Import packages\n",
    "\n",
    "First, we import the necessary packages for this exercise."
   ]
  },
  {
   "cell_type": "code",
   "execution_count": null,
   "metadata": {},
   "outputs": [],
   "source": [
    "import xarray as xr\n",
    "import matplotlib.pyplot as plt\n",
    "import cartopy.crs as ccrs\n",
    "import numpy as np\n",
    "import cartopy.feature as cfeature"
   ]
  },
  {
   "cell_type": "markdown",
   "metadata": {},
   "source": [
    "# Load in the dataset(s)"
   ]
  },
  {
   "cell_type": "code",
   "execution_count": null,
   "metadata": {},
   "outputs": [],
   "source": [
    "def preprocess_dataset(ds, tstart, tstop):\n",
    "    ds = ds.sel(time=slice(tstart, tstop))\n",
    "    tas_vars = [\"tas\", \"tasmax\", \"tasmin\"]\n",
    "    for tas_var in tas_vars:\n",
    "        if tas_var in ds:\n",
    "            ds[tas_var].values = ds[tas_var].values - 273.15\n",
    "            ds[tas_var].attrs[\"units\"] = \"°C\"\n",
    "    if \"pr\" in ds:\n",
    "        ds.pr.values = ds.pr.values * 3600\n",
    "        ds.pr.attrs[\"units\"] = \"mm/h\"\n",
    "\n",
    "    return ds"
   ]
  },
  {
   "cell_type": "code",
   "execution_count": null,
   "metadata": {},
   "outputs": [],
   "source": [
    "run_name = \"baseline\"\n",
    "run_info_list = [\n",
    "    (\"2021070100\", 384),\n",
    "    (\"2021071000\", 168),\n",
    "    (\"2021071012\", 156),\n",
    "    (\"2021071100\", 144),\n",
    "    (\"2021071112\", 144),\n",
    "    (\"2021071200\", 144),\n",
    "    (\"2021071212\", 144),\n",
    "]\n",
    "tstart = \"2021-07-13T09\"\n",
    "tstop = \"2021-07-15T08\""
   ]
  },
  {
   "cell_type": "code",
   "execution_count": null,
   "metadata": {},
   "outputs": [],
   "source": [
    "ds_list = list()\n",
    "\n",
    "for run_info in run_info_list:\n",
    "    rstart, nhours = run_info\n",
    "    filepath = f\"../data/{run_name}_{rstart}_{nhours}*.nc\"\n",
    "    ds = xr.open_mfdataset(filepath, engine=\"netcdf4\", chunks=\"auto\").assign_coords(\n",
    "        rstart=rstart\n",
    "    )\n",
    "    ds = preprocess_dataset(ds, tstart, tstop)\n",
    "    ds_list.append(ds)\n",
    "\n",
    "ds = xr.concat(ds_list, dim=\"rstart\")\n",
    "ds.load()"
   ]
  },
  {
   "cell_type": "markdown",
   "metadata": {},
   "source": [
    "# Plot the 48-hour accumulated precipitation"
   ]
  },
  {
   "cell_type": "code",
   "execution_count": null,
   "metadata": {},
   "outputs": [],
   "source": [
    "pr = ds.pr\n",
    "pr_sum = pr.sum(\"time\", skipna=False)\n",
    "\n",
    "ncols = len(run_info_list)\n",
    "fig, axs = plt.subplots(\n",
    "    ncols=ncols,\n",
    "    figsize=(ncols * 3.2, 4.8),\n",
    "    layout=\"constrained\",\n",
    "    subplot_kw={\"projection\": ccrs.PlateCarree()},\n",
    ")\n",
    "\n",
    "for idx in range(len(run_info_list)):\n",
    "    rstart, _ = run_info_list[idx]\n",
    "    ax = axs[idx]\n",
    "    p = pr_sum.sel(rstart=rstart).plot(\n",
    "        ax=ax,\n",
    "        x=\"lon\",\n",
    "        y=\"lat\",\n",
    "        levels=np.arange(0, 251, 25),\n",
    "        add_colorbar=False,\n",
    "        extend=\"max\",\n",
    "    )\n",
    "    ax.set_title(\n",
    "        f\"Run start = {rstart[:4]}-{rstart[4:6]}-{rstart[6:8]}T{rstart[8:]}\\nMaximum value = {pr_sum.sel(rstart=rstart).max().values:.0f} mm\"\n",
    "    )\n",
    "    ax.coastlines(alpha=0.7)\n",
    "    ax.add_feature(cfeature.BORDERS, alpha=0.5, linestyle=\"dotted\")\n",
    "    ax.set_aspect(1.4)\n",
    "\n",
    "fig.colorbar(p, label=\"Precipitation depth [mm]\")\n",
    "fig.suptitle(\n",
    "    f\"Accumulated precipitation between {tstart} and {tstop}\", fontsize=\"xx-large\"\n",
    ")\n",
    "plt.show()"
   ]
  },
  {
   "cell_type": "markdown",
   "metadata": {},
   "source": [
    "# Mask with RMI warning levels"
   ]
  },
  {
   "cell_type": "code",
   "execution_count": null,
   "metadata": {},
   "outputs": [],
   "source": [
    "def mask_pr(pr, thresholds_list):\n",
    "    mask_list = list()\n",
    "\n",
    "    for idx in range(len(thresholds_list)):\n",
    "        hours, thresh = thresholds_list[idx]\n",
    "\n",
    "        pr_rolling_sum = pr.rolling(time=hours).sum()\n",
    "        mask = (pr_rolling_sum > thresh).any(\"time\")\n",
    "\n",
    "        mask_list.append(mask.assign_coords(idx=idx))\n",
    "\n",
    "    mask = xr.concat(mask_list, dim=\"idx\").any(\"idx\")\n",
    "    return pr.where(mask)"
   ]
  },
  {
   "cell_type": "code",
   "execution_count": null,
   "metadata": {},
   "outputs": [],
   "source": [
    "yellow_thresholds_list = [(1, 20), (6, 20), (24, 25)]\n",
    "orange_thresholds_list = [(1, 30), (6, 40), (24, 50)]\n",
    "red_thresholds_list = [(1, 50), (6, 60), (24, 100)]\n",
    "\n",
    "pr = ds.pr\n",
    "pr_masked = mask_pr(pr, red_thresholds_list)"
   ]
  },
  {
   "cell_type": "code",
   "execution_count": null,
   "metadata": {},
   "outputs": [],
   "source": [
    "pr_masked_sum = pr_masked.sum(\"time\", skipna=False)\n",
    "\n",
    "ncols = len(run_info_list)\n",
    "fig, axs = plt.subplots(\n",
    "    ncols=ncols,\n",
    "    figsize=(ncols * 3.2, 4.8),\n",
    "    layout=\"constrained\",\n",
    "    subplot_kw={\"projection\": ccrs.PlateCarree()},\n",
    ")\n",
    "\n",
    "for idx in range(len(run_info_list)):\n",
    "    rstart, _ = run_info_list[idx]\n",
    "    ax = axs[idx]\n",
    "    p = pr_masked_sum.sel(rstart=rstart).plot(\n",
    "        ax=ax,\n",
    "        x=\"lon\",\n",
    "        y=\"lat\",\n",
    "        levels=np.arange(0, 251, 25),\n",
    "        add_colorbar=False,\n",
    "        extend=\"max\",\n",
    "    )\n",
    "    ax.set_title(\n",
    "        f\"Run start = {rstart[:4]}-{rstart[4:6]}-{rstart[6:8]}T{rstart[8:]}\\nMaximum value = {pr_masked_sum.sel(rstart=rstart).max().values:.0f} mm\"\n",
    "    )\n",
    "    ax.coastlines(alpha=0.7)\n",
    "    ax.add_feature(cfeature.BORDERS, alpha=0.5, linestyle=\"dotted\")\n",
    "    ax.set_aspect(1.4)\n",
    "\n",
    "fig.colorbar(p, label=\"Precipitation depth [mm]\")\n",
    "fig.suptitle(\n",
    "    f\"Accumulated precipitation between {tstart} and {tstop} (red warning)\",\n",
    "    fontsize=\"xx-large\",\n",
    ")"
   ]
  },
  {
   "cell_type": "markdown",
   "metadata": {},
   "source": [
    "# Open CLIMATE_GRID data"
   ]
  },
  {
   "cell_type": "code",
   "execution_count": null,
   "metadata": {},
   "outputs": [],
   "source": [
    "filepath = \"../data/CLIMATE_GRID_pr_1951_2023_daily_latlon_5km.nc\"\n",
    "obs = xr.open_dataset(filepath, engine=\"netcdf4\", chunks=\"auto\")\n",
    "obs = preprocess_dataset(obs, tstart=\"2021-07-13\", tstop=\"2021-07-14\") * 24  # !!!\n",
    "\n",
    "obs_pr = obs.pr\n",
    "obs_pr_sum = obs_pr.sum(\"time\", skipna=False)\n",
    "obs_pr_sum.plot(levels=np.arange(0, 251, 25))"
   ]
  },
  {
   "cell_type": "code",
   "execution_count": null,
   "metadata": {},
   "outputs": [],
   "source": [
    "ncols = len(run_info_list)\n",
    "fig, axs = plt.subplots(\n",
    "    ncols=ncols,\n",
    "    figsize=(ncols * 3.2, 4.8),\n",
    "    layout=\"constrained\",\n",
    "    subplot_kw={\"projection\": ccrs.PlateCarree()},\n",
    ")\n",
    "\n",
    "pr_sum = ds.pr.sum(\"time\", skipna=False)\n",
    "obs_pr_sum = obs.pr.sum(\"time\", skipna=False)\n",
    "bias_pr_sum = pr_sum - obs_pr_sum\n",
    "\n",
    "for idx in range(len(run_info_list)):\n",
    "    rstart, _ = run_info_list[idx]\n",
    "    ax = axs[idx]\n",
    "    p = bias_pr_sum.sel(rstart=rstart).plot(\n",
    "        ax=ax,\n",
    "        x=\"lon\",\n",
    "        y=\"lat\",\n",
    "        levels=[-200, -100, -50, -20, -10, 10, 20, 50, 100, 200],\n",
    "        cmap=\"coolwarm_r\",\n",
    "        add_colorbar=False,\n",
    "        extend=\"both\",\n",
    "    )\n",
    "    ax.set_title(\n",
    "        f\"Run start = {rstart[:4]}-{rstart[4:6]}-{rstart[6:8]}T{rstart[8:]}\\nMaximum bias = {bias_pr_sum.sel(rstart=rstart).max().values:.0f} mm\\nMinimum bias = {bias_pr_sum.sel(rstart=rstart).min().values:.0f} mm\\nMean bias = {bias_pr_sum.sel(rstart=rstart).mean().values:.0f} mm\"\n",
    "    )\n",
    "    ax.coastlines(alpha=0.7)\n",
    "    ax.add_feature(cfeature.BORDERS, alpha=0.5, linestyle=\"dotted\")\n",
    "    ax.set_aspect(1.4)\n",
    "\n",
    "fig.colorbar(p, label=\"Precipitation depth [mm]\")\n",
    "fig.suptitle(\n",
    "    f\"Accumulated precipitation between {tstart} and {tstop}\", fontsize=\"xx-large\"\n",
    ")"
   ]
  },
  {
   "cell_type": "markdown",
   "metadata": {},
   "source": [
    "Taking the average bias has an inherent issue? What is this and how can this be helped?"
   ]
  },
  {
   "cell_type": "markdown",
   "metadata": {},
   "source": [
    "# Select data in a point"
   ]
  },
  {
   "cell_type": "code",
   "execution_count": null,
   "metadata": {},
   "outputs": [],
   "source": [
    "lat, lon = 50.7941, 4.3572  # RMI\n",
    "lat, lon = 50.57506002330523, 5.800553217487655  # Pepinster\n",
    "pr_point = ds.pr.sel(lat=lat, lon=lon, method=\"nearest\")\n",
    "pr_point.cumsum(dim=\"time\").plot(x=\"time\", hue=\"rstart\")\n",
    "obs_pr_point = obs.pr.sel(lat=lat, lon=lon, method=\"nearest\")\n",
    "obs_pr_point.cumsum(dim=\"time\").plot(x=\"time\", hue=\"rstart\")"
   ]
  }
 ],
 "metadata": {
  "kernelspec": {
   "display_name": "DS-geospatial",
   "language": "python",
   "name": "python3"
  },
  "language_info": {
   "codemirror_mode": {
    "name": "ipython",
    "version": 3
   },
   "file_extension": ".py",
   "mimetype": "text/x-python",
   "name": "python",
   "nbconvert_exporter": "python",
   "pygments_lexer": "ipython3"
  }
 },
 "nbformat": 4,
 "nbformat_minor": 2
}
