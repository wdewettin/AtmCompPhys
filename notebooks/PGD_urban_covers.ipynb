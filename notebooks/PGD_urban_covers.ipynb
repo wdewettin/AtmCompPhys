{
 "cells": [
  {
   "cell_type": "code",
   "execution_count": null,
   "metadata": {},
   "outputs": [],
   "source": [
    "import xarray as xr\n",
    "import matplotlib.pyplot as plt\n",
    "import numpy as np\n",
    "from sklearn.linear_model import LinearRegression"
   ]
  },
  {
   "cell_type": "markdown",
   "metadata": {},
   "source": [
    "# Open PGD datasets"
   ]
  },
  {
   "cell_type": "code",
   "execution_count": null,
   "metadata": {},
   "outputs": [],
   "source": [
    "ds_list = [\n",
    "    xr.open_dataset(\n",
    "        \"BE40a_l_noTEB_PGD.fa.nc\", engine=\"netcdf4\", chunks=\"auto\"\n",
    "    ).assign_coords({\"type\": \"noTEB\"}),\n",
    "    xr.open_dataset(\"BE40a_l_PGD.fa.nc\", engine=\"netcdf4\", chunks=\"auto\").assign_coords(\n",
    "        {\"type\": \"original\"}\n",
    "    ),\n",
    "    xr.open_dataset(\n",
    "        \"BE40a_l_no_urban_PGD.fa.nc\", engine=\"netcdf4\", chunks=\"auto\"\n",
    "    ).assign_coords({\"type\": \"no_urban\"}),\n",
    "]\n",
    "\n",
    "ds = xr.concat(ds_list, dim=\"type\")\n",
    "ds"
   ]
  },
  {
   "cell_type": "markdown",
   "metadata": {},
   "source": [
    "## Calculate covers/tiles dataset"
   ]
  },
  {
   "cell_type": "code",
   "execution_count": null,
   "metadata": {},
   "outputs": [],
   "source": [
    "ds_filled = ds.fillna(0)\n",
    "da_list = list()\n",
    "\n",
    "for cover_number in range(1, 574):\n",
    "    varname = f\"SFX.COVER{cover_number:03d}____\"\n",
    "    if varname in ds_filled:\n",
    "        da = ds_filled[varname]\n",
    "        da_list.append(da.rename(\"COVER\").assign_coords({\"cover\": cover_number}))\n",
    "\n",
    "da = xr.concat(da_list, dim=\"cover\")\n",
    "ds_covers = da.to_dataset()\n",
    "ds_covers"
   ]
  },
  {
   "cell_type": "code",
   "execution_count": null,
   "metadata": {},
   "outputs": [],
   "source": [
    "ds_filled = ds.fillna(0)\n",
    "da_list = list()\n",
    "\n",
    "varname = \"SFX.FRAC_SEA____\"\n",
    "da = ds_filled[varname]\n",
    "da_list.append(da.rename(\"TILE\").assign_coords({\"tile\": \"sea\"}))\n",
    "\n",
    "varname = \"SFX.FRAC_WATER__\"\n",
    "da = ds_filled[varname]\n",
    "da_list.append(da.rename(\"TILE\").assign_coords({\"tile\": \"water\"}))\n",
    "\n",
    "varname = \"SFX.FRAC_TOWN___\"\n",
    "da = ds_filled[varname]\n",
    "da_list.append(da.rename(\"TILE\").assign_coords({\"tile\": \"town\"}))\n",
    "\n",
    "varname = \"SFX.FRAC_NATURE_\"\n",
    "da = ds_filled[varname]\n",
    "da_list.append(da.rename(\"TILE\").assign_coords({\"tile\": \"nature\"}))\n",
    "\n",
    "da = xr.concat(da_list, dim=\"tile\")\n",
    "ds_tiles = da.to_dataset()\n",
    "ds_tiles"
   ]
  },
  {
   "cell_type": "markdown",
   "metadata": {},
   "source": [
    "## Plot sum of covers and tiles"
   ]
  },
  {
   "cell_type": "code",
   "execution_count": null,
   "metadata": {},
   "outputs": [],
   "source": [
    "ds_covers_sum = ds_covers[\"COVER\"].sum(dim=\"cover\")\n",
    "ds_covers_sum_masked = ds_covers_sum.where(ds_covers_sum < 1.0 - 1e-6)\n",
    "ds_covers_sum_masked.plot(col=\"type\", aspect=4 / 3, size=4.8, vmin=0, vmax=1)\n",
    "plt.show()\n",
    "ds_covers_sum_masked.min(dim=[\"x\", \"y\"]).values"
   ]
  },
  {
   "cell_type": "markdown",
   "metadata": {},
   "source": [
    "We have plotted the sum of all covers for the three types of PGDs. We only plotted the points were the sum was smaller than $1 - 10^{-6}$ . The minimum value of the sum is 0.16667 . "
   ]
  },
  {
   "cell_type": "code",
   "execution_count": null,
   "metadata": {},
   "outputs": [],
   "source": [
    "ds_covers_sum.diff(dim=\"type\").plot(col=\"type\", aspect=4 / 3, size=4.8)\n",
    "plt.show()"
   ]
  },
  {
   "cell_type": "markdown",
   "metadata": {},
   "source": [
    "Next, we plotted all points were the sum of all covers differs between the types. The left plot compares original and noTEB, the right plot compares original and no_urban. The differences are contained to about $10^{-7}$. So, the sum of all covers are virtually identical across the types. The fact that the sum is smaller than 1 in some points is unrelated to the LPS tool."
   ]
  },
  {
   "cell_type": "code",
   "execution_count": null,
   "metadata": {},
   "outputs": [],
   "source": [
    "ds_tiles_sum = ds_tiles[\"TILE\"].sum(dim=\"tile\")\n",
    "ds_tiles_sum_masked = ds_tiles_sum.where(ds_tiles_sum < 1.0 - 1e-6)\n",
    "ds_tiles_sum_masked.plot(col=\"type\", aspect=4 / 3, size=4.8, vmin=0, vmax=1)\n",
    "plt.show()\n",
    "ds_tiles_sum_masked.min(dim=[\"x\", \"y\"]).values"
   ]
  },
  {
   "cell_type": "markdown",
   "metadata": {},
   "source": [
    "The sum of the tile fraction on the other hand is nicely one everywhere and for every type."
   ]
  },
  {
   "cell_type": "markdown",
   "metadata": {},
   "source": [
    "# Investigate town fraction\n",
    "## Plot town fraction"
   ]
  },
  {
   "cell_type": "code",
   "execution_count": null,
   "metadata": {},
   "outputs": [],
   "source": [
    "ds_tiles[\"TILE\"].sel(tile=\"town\").plot(\n",
    "    col=\"type\", aspect=4 / 3, size=4.8, vmin=0, vmax=0.1\n",
    ")\n",
    "plt.show()"
   ]
  },
  {
   "cell_type": "markdown",
   "metadata": {},
   "source": [
    "In what points is the town fraction higher than zero in no_urban but different than in original?"
   ]
  },
  {
   "cell_type": "code",
   "execution_count": null,
   "metadata": {},
   "outputs": [],
   "source": [
    "town_frac = ds[\"SFX.FRAC_TOWN___\"]\n",
    "mask1 = (town_frac.sel(type=\"original\") - town_frac.sel(type=\"no_urban\")) > 0\n",
    "mask2 = town_frac.sel(type=\"no_urban\") > 0\n",
    "mask = mask1 & mask2\n",
    "town_frac_masked = town_frac.where(mask)\n",
    "\n",
    "town_frac_masked.plot(\n",
    "    col=\"type\", levels=np.arange(0, 0.11, 0.01), extend=\"max\", aspect=4 / 3, size=4.8\n",
    ")\n",
    "plt.show()"
   ]
  },
  {
   "cell_type": "markdown",
   "metadata": {},
   "source": [
    "We now calculate the difference in covers between the original and no_urban PGDs. The plotted difference is calculated as original value - no_urban. So negative values indicate covers that are reduced (removed) from the original file."
   ]
  },
  {
   "cell_type": "code",
   "execution_count": null,
   "metadata": {},
   "outputs": [],
   "source": [
    "ds_filled = ds.fillna(0)\n",
    "ds_diff = (\n",
    "    ds_filled.sel(type=[\"original\", \"no_urban\"])\n",
    "    .diff(dim=\"type\")\n",
    "    .assign_coords(type=[\"difference\"])\n",
    "    .isel(type=0)\n",
    ")\n",
    "\n",
    "for cover_number in range(1, 574):\n",
    "    varname = f\"SFX.COVER{cover_number:03d}____\"\n",
    "    if varname in ds_diff:\n",
    "        max_diff = np.max(np.abs(ds_diff[varname])).values\n",
    "        if max_diff > 1e-9:\n",
    "            # fig, ax = plt.subplots()\n",
    "            # ds_diff[varname].plot(levels=[-1.001, -0.5, -0.2, -0.1, -0.05, 0.05, 0.1, 0.2, 0.5, 1.001])\n",
    "            min_diff = ds_diff[varname].min().values\n",
    "            max_diff = ds_diff[varname].max().values\n",
    "            # ax.set_title(f\"COVER {cover_number:03d}\\nmin = {min_diff:.2f} ; max = {max_diff:.2f}\")\n",
    "            print(\n",
    "                f\"COVER {cover_number:03d}\\nmin = {min_diff:.2f} ; max = {max_diff:.2f}\"\n",
    "            )"
   ]
  },
  {
   "cell_type": "markdown",
   "metadata": {},
   "source": [
    "# FIND COVERS THAT ARE SUPPOSEDLY URBAN BUT NOT REALLY\n",
    "First we plot the town fraction for all the points which have the same town fraction between original and no_urban."
   ]
  },
  {
   "cell_type": "code",
   "execution_count": null,
   "metadata": {},
   "outputs": [],
   "source": [
    "town_frac = ds_tiles[\"TILE\"].sel(tile=\"town\")\n",
    "town_frac_original = town_frac.sel(type=\"original\")\n",
    "town_frac_original_points = town_frac_original.stack(points=[\"x\", \"y\"])\n",
    "\n",
    "# Find points where town fraction is higher than zero, but equal between original and no_urban\n",
    "town_frac_original = town_frac.sel(type=\"original\")\n",
    "town_frac_no_urban = town_frac.sel(type=\"no_urban\")\n",
    "\n",
    "mask1 = np.abs(town_frac_original - town_frac_no_urban) < 1e-6\n",
    "mask2 = town_frac_original > 1e-6\n",
    "mask = mask1 & mask2\n",
    "\n",
    "town_frac_masked = town_frac.where(mask)\n",
    "town_frac_masked.plot(\n",
    "    col=\"type\", aspect=4 / 3, size=4.8, vmin=0, vmax=0.1, extend=\"max\"\n",
    ")"
   ]
  },
  {
   "cell_type": "markdown",
   "metadata": {},
   "source": [
    "## Calculate town coefficients for each cover\n",
    "Next, we calculate the town coefficient for each cover with the following algorithm. First we look for all points where a cover is 100 %. With this value we can easily determine the cover-specific town tile fraction. Next, we loop over all points with only one cover with an unknown coefficient. Based on previously calculated coefficients, we can calculate the coefficient for this cover too. We continue until everything is calculated, or nothing can be calculated anymore."
   ]
  },
  {
   "cell_type": "code",
   "execution_count": null,
   "metadata": {},
   "outputs": [],
   "source": [
    "ds_covers_sum = ds_covers[\"COVER\"].sum(dim=\"cover\")\n",
    "mask = (ds_covers_sum > 1.0 - 1e-6).all(dim=\"type\")\n",
    "mask.plot()\n",
    "\n",
    "ds_covers_original = ds_covers[\"COVER\"].sel(type=\"original\")\n",
    "ds_covers_masked_original = ds_covers_original.where(mask)\n",
    "\n",
    "town_frac_original = town_frac.sel(type=\"original\")\n",
    "town_frac_masked_original = town_frac_original.where(mask)\n",
    "\n",
    "town_frac_masked_original_points = town_frac_masked_original.stack(points=[\"x\", \"y\"])\n",
    "town_frac_original_points = town_frac_original.stack(points=[\"x\", \"y\"])\n",
    "\n",
    "ds_covers_masked_original_points = ds_covers_masked_original.stack(points=[\"x\", \"y\"])\n",
    "ds_covers_original_points = ds_covers_original.stack(points=[\"x\", \"y\"])"
   ]
  },
  {
   "cell_type": "code",
   "execution_count": null,
   "metadata": {},
   "outputs": [],
   "source": [
    "cond = (ds_covers_masked_original_points == 1).load()\n",
    "\n",
    "ds_covers_masked_original_points_dropped = ds_covers_masked_original_points.dropna(\n",
    "    dim=\"points\"\n",
    ").load()\n",
    "town_frac_masked_original_points_dropped = town_frac_masked_original_points.dropna(\n",
    "    dim=\"points\"\n",
    ").load()\n",
    "\n",
    "covers_to_check = cond.any(dim=\"points\")\n",
    "da_coeff = xr.DataArray(\n",
    "    data=np.ones(len(ds_covers_masked_original_points_dropped.cover)) * -1,\n",
    "    dims=\"cover\",\n",
    "    coords={\"cover\": ds_covers_masked_original_points_dropped.cover},\n",
    ")\n",
    "\n",
    "for check_idx in range(len(covers_to_check)):\n",
    "    check = covers_to_check[check_idx]\n",
    "    cover = check.cover\n",
    "    if check.values:\n",
    "        X = ds_covers_masked_original_points_dropped.sel(cover=cover)\n",
    "        y = town_frac_masked_original_points_dropped\n",
    "        da_coeff[check_idx] = y.values[np.argmax(X.values)]\n",
    "        print(f\"Cover {cover:03d}\")"
   ]
  },
  {
   "cell_type": "code",
   "execution_count": null,
   "metadata": {},
   "outputs": [],
   "source": [
    "covers_points = ds_covers_masked_original_points.dropna(dim=\"points\").load()\n",
    "town_frac_points = town_frac_masked_original_points.dropna(dim=\"points\").load()\n",
    "\n",
    "nonzero_covers_points = covers_points > 0\n",
    "\n",
    "specified_covers = (\n",
    "    da_coeff[\"cover\"].where(da_coeff > -0.01).dropna(dim=\"cover\").astype(int).values\n",
    ")\n",
    "specified_covers_mask = da_coeff > -0.01\n",
    "non_specified_covers = (\n",
    "    da_coeff[\"cover\"].where(da_coeff < -0.01).dropna(dim=\"cover\").astype(int).values\n",
    ")\n",
    "print(f\"Number of unspecified covers = {len(non_specified_covers)}\")\n",
    "\n",
    "points_to_look_into = covers_points.points.where(\n",
    "    (nonzero_covers_points & ~specified_covers_mask).sum(dim=\"cover\") == 1\n",
    ").dropna(dim=\"points\")\n",
    "print(f\"Number of points to look into = {len(points_to_look_into)}\")\n",
    "\n",
    "while len(non_specified_covers) and len(points_to_look_into):\n",
    "    for point in points_to_look_into[:1]:\n",
    "        covers_point = covers_points.sel(points=point)\n",
    "        nonzero_covers_point = nonzero_covers_points.sel(points=point)\n",
    "        print(\n",
    "            f\"Cover fractions in point : {covers_point.where(nonzero_covers_point).dropna(dim='cover').values}\"\n",
    "        )\n",
    "        print(\n",
    "            f\"Covers in point : {covers_point.where(nonzero_covers_point).dropna(dim='cover').cover.values}\"\n",
    "        )\n",
    "\n",
    "        new_cover = int(\n",
    "            covers_points.cover.where(\n",
    "                nonzero_covers_point & ~specified_covers_mask\n",
    "            ).dropna(\"cover\")\n",
    "        )\n",
    "        print(f\"New cover = {new_cover}\")\n",
    "        town_frac_sum = (da_coeff.where(da_coeff > -0.01) * covers_point).sum().values\n",
    "        town_frac_point = town_frac_points.sel(points=point).values\n",
    "        cover_frac = covers_point.sel(cover=new_cover).values\n",
    "        new_coeff = (town_frac_point - town_frac_sum) / cover_frac\n",
    "        if new_coeff < 0.001:\n",
    "            new_coeff = 0\n",
    "        print(f\"New coefficient = {new_coeff}\")\n",
    "        da_coeff.loc[dict(cover=new_cover)] = new_coeff\n",
    "        print(\"---------------------------------------------\")\n",
    "\n",
    "    specified_covers = (\n",
    "        da_coeff[\"cover\"].where(da_coeff > -0.01).dropna(dim=\"cover\").astype(int).values\n",
    "    )\n",
    "    specified_covers_mask = da_coeff > -0.01\n",
    "    non_specified_covers = (\n",
    "        da_coeff[\"cover\"].where(da_coeff < -0.01).dropna(dim=\"cover\").astype(int).values\n",
    "    )\n",
    "\n",
    "    print(f\"Number of unspecified covers = {len(non_specified_covers)}\")\n",
    "    points_to_look_into = covers_points.points.where(\n",
    "        (nonzero_covers_points & ~specified_covers_mask).sum(dim=\"cover\") == 1\n",
    "    ).dropna(dim=\"points\")\n",
    "    print(f\"Number of points to look into = {len(points_to_look_into)}\")"
   ]
  },
  {
   "cell_type": "markdown",
   "metadata": {},
   "source": [
    "We round the found coefficients to 2 digits (as ECOCLIMAP does). First, we check the difference with the rounded values and the raw values:"
   ]
  },
  {
   "cell_type": "code",
   "execution_count": null,
   "metadata": {},
   "outputs": [],
   "source": [
    "(da_coeff.round(2) - da_coeff).plot.hist()"
   ]
  },
  {
   "cell_type": "markdown",
   "metadata": {},
   "source": [
    "We plot the coefficients"
   ]
  },
  {
   "cell_type": "code",
   "execution_count": null,
   "metadata": {},
   "outputs": [],
   "source": [
    "da_coeff.round(2).cover.values"
   ]
  },
  {
   "cell_type": "code",
   "execution_count": null,
   "metadata": {},
   "outputs": [],
   "source": [
    "da_coeff.round(2).plot.scatter(x=\"cover\")"
   ]
  },
  {
   "cell_type": "markdown",
   "metadata": {},
   "source": [
    "We compute the town fraction ourselves and compare with town fraction from PGD."
   ]
  },
  {
   "cell_type": "code",
   "execution_count": null,
   "metadata": {},
   "outputs": [],
   "source": [
    "town_frac_myself = da_coeff.round(3) * ds_covers\n",
    "(town_frac_myself.sum(\"cover\") - town_frac).COVER.plot(\n",
    "    col=\"type\", aspect=4 / 3, size=4.8\n",
    ")"
   ]
  },
  {
   "cell_type": "markdown",
   "metadata": {},
   "source": [
    "## Linear regression"
   ]
  },
  {
   "cell_type": "code",
   "execution_count": null,
   "metadata": {},
   "outputs": [],
   "source": [
    "town_frac = ds_tiles[\"TILE\"].sel(tile=\"town\")\n",
    "town_frac_original = town_frac.sel(type=\"original\")\n",
    "town_frac_original_points = town_frac_original.stack(points=[\"x\", \"y\"])\n",
    "\n",
    "# Find points where town fraction is higher than zero, but equal between original and no_urban\n",
    "town_frac_original = town_frac.sel(type=\"original\")\n",
    "town_frac_no_urban = town_frac.sel(type=\"no_urban\")\n",
    "\n",
    "mask1 = np.abs(town_frac_original - town_frac_no_urban) < 1e-6\n",
    "mask2 = town_frac_original > 1e-6\n",
    "mask = mask1 & mask2\n",
    "mask = 1\n",
    "\n",
    "ds_covers_original = ds_covers[\"COVER\"].sel(type=\"original\")\n",
    "ds_covers_masked_original = ds_covers_original.where(mask)\n",
    "\n",
    "town_frac_original = town_frac.sel(type=\"original\")\n",
    "town_frac_masked_original = town_frac_original.where(mask)\n",
    "\n",
    "town_frac_masked_original_points = town_frac_masked_original.stack(points=[\"x\", \"y\"])\n",
    "town_frac_original_points = town_frac_original.stack(points=[\"x\", \"y\"])\n",
    "\n",
    "ds_covers_masked_original_points = ds_covers_masked_original.stack(points=[\"x\", \"y\"])\n",
    "ds_covers_original_points = ds_covers_original.stack(points=[\"x\", \"y\"])"
   ]
  },
  {
   "cell_type": "code",
   "execution_count": null,
   "metadata": {},
   "outputs": [],
   "source": [
    "y.shape"
   ]
  },
  {
   "cell_type": "code",
   "execution_count": null,
   "metadata": {},
   "outputs": [],
   "source": [
    "X = ds_covers_masked_original_points.dropna(dim=\"points\").astype(float).values.T\n",
    "y = town_frac_masked_original_points.dropna(dim=\"points\").astype(float).values\n",
    "\n",
    "model = LinearRegression(fit_intercept=False)\n",
    "model.fit(X, y)\n",
    "\n",
    "coefficients = model.coef_\n",
    "plt.scatter(x=ds_covers.cover.values, y=coefficients)"
   ]
  },
  {
   "cell_type": "code",
   "execution_count": null,
   "metadata": {},
   "outputs": [],
   "source": [
    "(coefficients.round(3) == da_coeff.round(3)).all().values"
   ]
  },
  {
   "cell_type": "markdown",
   "metadata": {},
   "source": [
    "Linear regression values and algorithm values are the same!"
   ]
  },
  {
   "cell_type": "markdown",
   "metadata": {},
   "source": [
    "# Differences between noTEB and original"
   ]
  },
  {
   "cell_type": "code",
   "execution_count": null,
   "metadata": {},
   "outputs": [],
   "source": [
    "ds_covers_filled = ds_covers.fillna(0)\n",
    "ds_diff = (\n",
    "    ds_covers_filled.sel(type=[\"original\", \"noTEB\"])\n",
    "    .diff(dim=\"type\")\n",
    "    .assign_coords(type=[\"difference\"])\n",
    "    .isel(type=0)\n",
    "    .COVER\n",
    ")"
   ]
  },
  {
   "cell_type": "code",
   "execution_count": null,
   "metadata": {},
   "outputs": [],
   "source": [
    "counter = 0\n",
    "for cover in ds_diff.cover:\n",
    "    max_diff = np.max(np.abs(ds_diff.sel(cover=cover))).values\n",
    "    if max_diff > 1e-9:\n",
    "        # fig, ax = plt.subplots()\n",
    "        # ds_diff[varname].plot(levels=[-1.001, -0.5, -0.2, -0.1, -0.05, 0.05, 0.1, 0.2, 0.5, 1.001])\n",
    "        min_diff = ds_diff[cover].min().values\n",
    "        max_diff = ds_diff[cover].max().values\n",
    "        # ax.set_title(f\"COVER {cover_number:03d}\\nmin = {min_diff:.2f} ; max = {max_diff:.2f}\")\n",
    "        print(f\"COVER {cover_number:03d}\\nmin = {min_diff:.2f} ; max = {max_diff:.2f}\")\n",
    "    print(max_diff)\n",
    "    counter += 1\n",
    "print(counter)"
   ]
  },
  {
   "cell_type": "markdown",
   "metadata": {},
   "source": [
    "Covers between original and noTEB are identical!"
   ]
  },
  {
   "cell_type": "markdown",
   "metadata": {},
   "source": [
    "# Save to file"
   ]
  },
  {
   "cell_type": "code",
   "execution_count": null,
   "metadata": {},
   "outputs": [],
   "source": [
    "df = (da_coeff.round(2)).rename(\"Town_coefficients\").to_dataframe()\n",
    "df.to_csv(\"ECOCLIMAP_cover_town_coefficients.csv\")"
   ]
  }
 ],
 "metadata": {
  "kernelspec": {
   "display_name": "DS-geospatial",
   "language": "python",
   "name": "python3"
  },
  "language_info": {
   "codemirror_mode": {
    "name": "ipython",
    "version": 3
   },
   "file_extension": ".py",
   "mimetype": "text/x-python",
   "name": "python",
   "nbconvert_exporter": "python",
   "pygments_lexer": "ipython3"
  }
 },
 "nbformat": 4,
 "nbformat_minor": 2
}
