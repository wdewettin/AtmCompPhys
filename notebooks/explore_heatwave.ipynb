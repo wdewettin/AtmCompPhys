{
 "cells": [
  {
   "cell_type": "markdown",
   "metadata": {},
   "source": [
    "# Import packages\n",
    "\n",
    "First, we import the necessary packages for exploring the data."
   ]
  },
  {
   "cell_type": "code",
   "execution_count": null,
   "metadata": {},
   "outputs": [],
   "source": [
    "import xarray as xr\n",
    "import matplotlib.pyplot as plt\n",
    "import cartopy.crs as ccrs\n",
    "import numpy as np\n",
    "import cartopy.feature as cfeature"
   ]
  },
  {
   "cell_type": "markdown",
   "metadata": {},
   "source": [
    "# Load in the dataset(s)"
   ]
  },
  {
   "cell_type": "markdown",
   "metadata": {},
   "source": [
    "This functions preprocesses thet loaded datasets:\n",
    "- It selects the period of interest.\n",
    "- It changes the units of precipitation and temperature."
   ]
  },
  {
   "cell_type": "code",
   "execution_count": null,
   "metadata": {},
   "outputs": [],
   "source": [
    "def preprocess_dataset(ds, tstart, tstop):\n",
    "    ds = ds.sel(time=slice(tstart, tstop))\n",
    "    tas_vars = [\"tas\", \"tasmax\", \"tasmin\"]\n",
    "    for tas_var in tas_vars:\n",
    "        if tas_var in ds:\n",
    "            ds[tas_var].values = ds[tas_var].values - 273.15\n",
    "            ds[tas_var].attrs[\"units\"] = \"°C\"\n",
    "\n",
    "    return ds"
   ]
  },
  {
   "cell_type": "code",
   "execution_count": null,
   "metadata": {},
   "outputs": [],
   "source": [
    "run_name = \"baseline\"\n",
    "run_info_list = [\n",
    "    (\"2019070100\", 720),\n",
    "    (\"2019071600\", 360),\n",
    "    (\"2019071612\", 348),\n",
    "    (\"2019071700\", 336),\n",
    "    (\"2019071712\", 324),\n",
    "    (\"2019071800\", 312),\n",
    "    (\"2019071812\", 300),\n",
    "    (\"2019071900\", 288),\n",
    "    (\"2019071912\", 276),\n",
    "    (\"2019072000\", 264),\n",
    "]\n",
    "tstart = \"2019-07-22T01\"\n",
    "tstop = \"2019-07-28T00\""
   ]
  },
  {
   "cell_type": "code",
   "execution_count": null,
   "metadata": {},
   "outputs": [],
   "source": [
    "ds_list = list()\n",
    "\n",
    "for run_info in run_info_list:\n",
    "    rstart, nhours = run_info\n",
    "    filepath = f\"../data/{run_name}_{rstart}_{nhours}*.nc\"\n",
    "    ds = xr.open_mfdataset(filepath, engine=\"netcdf4\", chunks=\"auto\").assign_coords(\n",
    "        rstart=rstart\n",
    "    )\n",
    "    ds = preprocess_dataset(ds, tstart, tstop)\n",
    "    ds_list.append(ds)\n",
    "\n",
    "ds = xr.concat(ds_list, dim=\"rstart\")\n",
    "ds.load()"
   ]
  },
  {
   "cell_type": "markdown",
   "metadata": {},
   "source": [
    "# Maxmimum temperature during period\n",
    "\n",
    "During the period, what is the maximum temperature in each point?"
   ]
  },
  {
   "cell_type": "code",
   "execution_count": null,
   "metadata": {},
   "outputs": [],
   "source": [
    "ncols = len(run_info_list)\n",
    "fig, axs = plt.subplots(\n",
    "    ncols=ncols,\n",
    "    figsize=(ncols * 3.2, 4.8),\n",
    "    layout=\"constrained\",\n",
    "    subplot_kw={\"projection\": ccrs.PlateCarree()},\n",
    ")\n",
    "\n",
    "for idx in range(len(run_info_list)):\n",
    "    rstart, _ = run_info_list[idx]\n",
    "    ax = axs[idx]\n",
    "    p = (\n",
    "        ds.sel(rstart=rstart)\n",
    "        .tasmax.max(dim=[\"time\"])\n",
    "        .plot(\n",
    "            ax=ax,\n",
    "            cmap=\"coolwarm\",\n",
    "            levels=np.arange(20, 41, 2),\n",
    "            extend=\"both\",\n",
    "            add_colorbar=False,\n",
    "        )\n",
    "    )\n",
    "    ax.set_title(\n",
    "        f\"rstart = {rstart}\\nmaximum temperature = {ds.sel(rstart=rstart).tasmax.max().values:.2f} °C\"\n",
    "    )\n",
    "    ax.coastlines(alpha=0.7)\n",
    "    ax.add_feature(cfeature.BORDERS, alpha=0.5, linestyle=\"dotted\")\n",
    "    ax.set_aspect(1.4)\n",
    "\n",
    "fig.suptitle(\n",
    "    f\"Maximum temperature in each point between {tstart} and {tstop}\",\n",
    "    fontsize=\"xx-large\",\n",
    ")\n",
    "fig.colorbar(p, label=\"Temperature [°C]\")\n",
    "plt.show()"
   ]
  },
  {
   "cell_type": "markdown",
   "metadata": {},
   "source": [
    "There are small differences between tasmax.max() and tas.max(). Because of regridding?"
   ]
  },
  {
   "cell_type": "markdown",
   "metadata": {},
   "source": [
    "# Average maximum temperature"
   ]
  },
  {
   "cell_type": "code",
   "execution_count": null,
   "metadata": {},
   "outputs": [],
   "source": [
    "ncols = len(run_info_list)\n",
    "fig, axs = plt.subplots(\n",
    "    ncols=ncols,\n",
    "    figsize=(ncols * 3.2, 4.8),\n",
    "    layout=\"constrained\",\n",
    "    subplot_kw={\"projection\": ccrs.PlateCarree()},\n",
    ")\n",
    "\n",
    "for idx in range(len(run_info_list)):\n",
    "    rstart, _ = run_info_list[idx]\n",
    "    ax = axs[idx]\n",
    "    p = (\n",
    "        ds.sel(rstart=rstart)\n",
    "        .tasmax.mean(dim=[\"time\"])\n",
    "        .plot(\n",
    "            ax=ax,\n",
    "            cmap=\"coolwarm\",\n",
    "            levels=np.arange(20, 31, 1),\n",
    "            extend=\"both\",\n",
    "            add_colorbar=False,\n",
    "        )\n",
    "    )\n",
    "    ax.set_title(\n",
    "        f\"rstart = {rstart}\\nmean max temperature = {ds.sel(rstart=rstart).tasmax.mean().values:.2f} °C\"\n",
    "    )\n",
    "    ax.coastlines(alpha=0.7)\n",
    "    ax.add_feature(cfeature.BORDERS, alpha=0.5, linestyle=\"dotted\")\n",
    "    ax.set_aspect(1.4)\n",
    "\n",
    "fig.suptitle(\n",
    "    f\"Mean max temperature in each point between {tstart} and {tstop}\",\n",
    "    fontsize=\"xx-large\",\n",
    ")\n",
    "fig.colorbar(p, label=\"Temperature [°C]\")\n",
    "plt.show()"
   ]
  },
  {
   "cell_type": "markdown",
   "metadata": {},
   "source": [
    "# Number of locations with a heatwave"
   ]
  },
  {
   "cell_type": "code",
   "execution_count": null,
   "metadata": {},
   "outputs": [],
   "source": [
    "ncols = len(run_info_list)\n",
    "fig, axs = plt.subplots(ncols=ncols, figsize=(ncols * 3.2, 4.8), layout=\"constrained\")\n",
    "\n",
    "for idx in range(len(run_info_list)):\n",
    "    rstart, _ = run_info_list[idx]\n",
    "    ax = axs[idx]\n",
    "\n",
    "    tasmax = ds.tasmax.sel(rstart=rstart).dropna(dim=\"time\")\n",
    "    heatwave_mask_1 = (\n",
    "        tasmax.rolling(time=5).construct(\"window_dim\").min(\"window_dim\", skipna=False)\n",
    "        >= 25\n",
    "    )\n",
    "    heatwave_mask_2 = (\n",
    "        tasmax.rolling(time=3).construct(\"window_dim\").min(\"window_dim\", skipna=False)\n",
    "        >= 30\n",
    "    )\n",
    "    heatwave_mask = (heatwave_mask_1 & heatwave_mask_2).any(\"time\")\n",
    "    tasmax_masked = tasmax.where(heatwave_mask)\n",
    "\n",
    "    tasmax_heatwave_locs = (\n",
    "        tasmax_masked.stack(loc=[\"lat\", \"lon\"]).dropna(\"loc\").load().reset_index(\"loc\")\n",
    "    )\n",
    "    tasmax_heatwave_locs.plot(ax=ax, x=\"time\", hue=\"loc\")\n",
    "    ax.set_title(f\"rstart = {rstart}; n_loc = {len(tasmax_heatwave_locs['loc'])}\")\n",
    "    ax.legend(\"\").remove()\n",
    "    ax.set_ylim(19, 41)\n",
    "\n",
    "plt.show()"
   ]
  }
 ],
 "metadata": {
  "kernelspec": {
   "display_name": "DS-geospatial",
   "language": "python",
   "name": "python3"
  },
  "language_info": {
   "codemirror_mode": {
    "name": "ipython",
    "version": 3
   },
   "file_extension": ".py",
   "mimetype": "text/x-python",
   "name": "python",
   "nbconvert_exporter": "python",
   "pygments_lexer": "ipython3"
  }
 },
 "nbformat": 4,
 "nbformat_minor": 2
}
