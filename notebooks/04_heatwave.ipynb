{
 "cells": [
  {
   "cell_type": "markdown",
   "metadata": {},
   "source": [
    "# 1. <a id='toc1_'></a>[Import packages](#toc0_)\n",
    "\n",
    "First, we import the necessary packages for this exercise:\n",
    "```\n",
    "import xarray as xr\n",
    "import matplotlib.pyplot as plt\n",
    "import cartopy.crs as ccrs\n",
    "import numpy as np\n",
    "import cartopy.feature as cfeature\n",
    "```"
   ]
  },
  {
   "cell_type": "code",
   "execution_count": null,
   "metadata": {},
   "outputs": [],
   "source": [
    "%matplotlib inline\n",
    "%config InlineBackend.figure_format = 'png'"
   ]
  },
  {
   "cell_type": "code",
   "execution_count": null,
   "metadata": {},
   "outputs": [],
   "source": [
    "# Change to directory where data is stored\n",
    "data_dir = \"/kyukon/data/gent/courses/2024/computphys_C004504/input\""
   ]
  },
  {
   "cell_type": "markdown",
   "metadata": {},
   "source": [
    "**Table of contents**<a id='toc0_'></a>    \n",
    "- 1. [Import packages](#toc1_)    \n",
    "- 2. [Open simulation data](#toc2_)    \n",
    "  - 2.1. [Solutions:](#toc2_1_)    \n",
    "- 3. [Investigate UHI](#toc3_)    \n",
    "  - 3.1. [Solutions:](#toc3_1_)    \n",
    "- 4. [Energy exchange with the surface](#toc4_)    \n",
    "  - 4.1. [Solutions:](#toc4_1_)    \n",
    "- 5. [Cold start vs. soil spin-up](#toc5_)    \n",
    "  - 5.1. [Solutions:](#toc5_1_)    \n",
    "- 6. [Extra 1. Locations with a heatwave](#toc6_)    \n",
    "  - 6.1. [Solutions:](#toc6_1_)    \n",
    "- 7. [Extra 2. Simulation without urban areas](#toc7_)    \n",
    "  - 7.1. [Solutions:](#toc7_1_)    \n",
    "\n",
    "<!-- vscode-jupyter-toc-config\n",
    "\tnumbering=true\n",
    "\tanchor=true\n",
    "\tflat=false\n",
    "\tminLevel=1\n",
    "\tmaxLevel=6\n",
    "\t/vscode-jupyter-toc-config -->\n",
    "<!-- THIS CELL WILL BE REPLACED ON TOC UPDATE. DO NOT WRITE YOUR TEXT IN THIS CELL -->"
   ]
  },
  {
   "cell_type": "markdown",
   "metadata": {},
   "source": [
    "# 2. <a id='toc2_'></a>[Open simulation data](#toc0_)\n",
    "\n",
    "- Open the 2-meter temperature (variable `tas`) data for the `initSFX`-simulation starting at midnight on 1 July 2019 and running for 720 hours: `initSFX_2019070100_720_tas_2019-07-01T01_2019-07-31T00_3600_regridded.nc`\n",
    "- Which units are used for the temperature? Convert these units to degrees Celsius (if necessary) for this exercise. This will facilitate the interpretation of results.\n",
    "- Let's now focus on one location: the Royal Meteorological Institute of Belgium (RMI) in Uccle. Select the temperature data for this location from the simulation dataset. Do so by finding the point in the simulation grid, which lies closest to the RMI. The coordinates of the RMI are 50.799 N, 4.359 E.\n",
    "- From 22 until 26 July 2019, we experienced a short, but very intense heat wave in Belgium. The RMI speaks of a heat wave when the maximum temperatures in Uccle reach at least 25 degrees for at least 5 consecutive days, with at least 30 degrees  being reached on at least three days (see [heat wave definition](https://www.meteo.be/nl/info/weerwoorden/hittegolf) in Dutch). Select this 5-day period from the data and verify if these conditions for a heat wave are met in the simulation data by inspecting a plot."
   ]
  },
  {
   "cell_type": "markdown",
   "metadata": {},
   "source": [
    "# 3. <a id='toc3_'></a>[Investigate UHI](#toc0_)\n",
    "\n",
    "In this next part of the practical, we will investigate the Urban Heat Island (UHI) in the simulations. We will do so by comparing the simulation to the MOCCA observational network. This network consists of 6 stations located in the city of Ghent. Each station is placed in a different urban environment, to gauge the influence of this environment on the micro-climate. One of these stations is located outside of the city, in Melle, and can be considered a rural station. We can define the UHI intensity by calculating the temperature difference between an urban and a rural station. This difference in temperature depends on the time of day. Therefore, the UHI is often studied by computing a so-called diurnal (or daily) cycle. This diurnal cycle is constructed by taking an average of the data over a certain period for each hour of the day. For example, all the data at midnight are averaged together, the data at 1:00, ... This diurnal cycle represents the variations throughout the day.\n",
    "\n",
    "For this exercise, we will work with the `tas`-variable from the `initSFX`-simulation from 1 July 2019 (720 hours). We will also need the land use information stored in `initSFX_landuse_regridded.nc`.  \n",
    "\n",
    "- Load in the MOCCA station data for the period of the heat wave. These data are stored in the file `MOCCA_tas_2019-07-22T01_2019-07-27T00.nc`. Explore the data.\n",
    "- Load in the simulation data together with the land use information. Write a function called `open_data`, which takes the data directory, variable names and run names and loads in the corresponding variables and land use information as one dataset.\n",
    "- Take a look at the land use data. How is this land use stored in the dataset?\n",
    "- We will now consider these locations in the simulation data. Select the points in the simulation data which are closest to each of the stations. Assign coordinates so that you get an xarray DataSet with the same dimensions as the observations: `(time, locations)`\n",
    "- For each of the locations, consider the town fraction. Select the locations with the lowest and highest town fraction from the stations. We will use these to represent rural and urban locations respectively.\n",
    "- For the period of the heat wave (22-26 July 2019), calculate the diurnal cycle of temperature for both locations for the simulation data. Plot the difference between the urban and rural diurnal cycles. Is a urban heat island present in the simulations? What is the UHI intensity? At what hours of the day is it the highest?\n",
    "- Repeat the previous step for the observational data. Compare this result with the simulation data.\n",
    "- Where does the difference in UHI intensity between the simulation and observations come from? Plot the bias of the diurnal cycle in temperature for both locations. Link the difference in UHI between the simulation and observations to the bias at the urban and rural locations."
   ]
  },
  {
   "cell_type": "markdown",
   "metadata": {},
   "source": [
    "# 4. <a id='toc4_'></a>[Energy exchange with the surface](#toc0_)\n",
    "\n",
    "An important factor which influences the state of the atmosphere, and hence the weather, is its interaction with the surface. This interaction can be represented as the exchange of energy in the form of fluxes. We consider three types of energy exchange: radiation, sensible heat flux and latent heat flux. The variable names corresponding to these fluxes are respectively `rnetds`, `hfss` and `hfls`.\n",
    "\n",
    "- Load in the simulation data of these fluxes for the `initSFX`-simulation from 1 July 2019 (720 hours).\n",
    "- What are the units of these fluxes?\n",
    "- Select again the data from Uccle and from the period between 22 and 26 July 2019. Plot the ernergy fluxes in function of time. \n",
    "- We will now determine the sign of these fluxes:\n",
    "    - The radiation flux `rnetds` is the net radiation flux: it is the difference between the incoming and outgoing radiation. The incoming radiation is primarily shortwave radiation: either direct (from the Sun) or diffuse (scattered solar radiation). The outgoing radiation is emmited by the surface itself; it is longwave radiation. The difference between these two contributions is the net radiation flux. When is this variable positive and negative? What does this mean: is a positive flux directed into or out of the surface?\n",
    "    - The sensible heat flux `hfss` is the heat transfer caused by the temperature difference between the surface and the atmosphere. The heat is transfered from the medium with the highest temperature to the medium with the lowest temperature. Compare the near-surface air temperature (`tas`) with the surface temperature (`ts`). Use this difference between `ts` and `ts` to derive the sign of the sensible heat flux.\n",
    "    - The latent heat flux is caused by the evaporation of soil moisture. This evaporation requires latent heat for the phase transition between the liquid and vapor phase. This heat is extracted from the soil, which causes it to cool. Consider the latent heat flux. In what direction is the postive latent heat flux defined? \n",
    "- Calculate the net energy flux into the surface by adding or subtracting (depending on how the direction is defined) the three flux contributions. Compare this with the surface temperature, stored in the variable `ts`."
   ]
  },
  {
   "cell_type": "markdown",
   "metadata": {},
   "source": [
    "# 5. <a id='toc5_'></a>[Cold start vs. soil spin-up](#toc0_)"
   ]
  },
  {
   "cell_type": "markdown",
   "metadata": {},
   "source": [
    "In this practical, we have discussed the interaction between the surface and the atmosphere through fluxes. The simulation we discussed previously, `initSFX`, has been run with an initial surface state that was taken from a long-term climate simulation. This allows the soil variables to start from a state that was in equilibrium with the atmospheric variables. As these soil variables (such as temperature and moisture) are slowly-evolving, particularly the deep soil variables, the time to reach this equilibrium in a simulation can be of the order of months.\n",
    "\n",
    "On the other hand, we have also run a simulation with a default initial surface state (we call this a cold start). This simulation is the `baseline`-simulation (also used in the practical about the Vesder case). For this simulation, the soil moisture and temperature variables are not yet in an equilibrium state and will hence first evolve towards this state. This will impact the atmospheric variables close to the surface. The process where a model moves towards an equilibrium state is called the spin-up period.\n",
    "\n",
    "Investigate this by following these steps:\n",
    "- Load in the following variables for the `baseline`- and `initSFX`-simulations for the simulations starting on 1 July 2019 (720 hours):\n",
    "    - `tas`: near-surface air temperature\n",
    "    - `hfss`, `hfls`, `rnetds`: surface energy fluxes\n",
    "    - `ts`: surface temperature\n",
    "    - `mrso`: total soil moisture\n",
    "    - `tsl2`: deep soil temperature\n",
    "- Select the data at the locations of the MOCCA stations for the heatwave period (22-26 July 2019). Plot the temperature for both simulations and compare to the observations. Which simulation performs best?\n",
    "- Plot the average over the simulation domain of all variables. How can you see the behaviour of moving to equilibrium from these plots? Can you explain the differences between these two simulations? Think about how these variables influence each other and explain how these differences are connected."
   ]
  },
  {
   "cell_type": "markdown",
   "metadata": {},
   "source": [
    "# 6. <a id='toc6_'></a>[Extra 1. Locations with a heatwave](#toc0_)\n",
    "\n",
    "This extra exercise concerns the definition of a heat wave, as employed by the Belgian Royal Meteorological Institute. There, a heat wave period is defined as a period when the maximum temperatures in Uccle reach at least 25 degrees for at least 5 consecutive days, with at least 30 degrees being reached on at least three days. Write an algorithm to automatically detect heatwaves based on daily maximum temperatures. It is best to write it in two steps: 1) Select all periods which have at least five consecutive days above 25°C. 2) Check which of these periods contain at least three days with a temperature above 30°C. \n",
    "\n",
    "- Apply this algorithm on every point in the simulation dataset. What is the maximum number of heatwave days that you find over the domain?\n",
    "- Apply this to the CLIMATE-GRID dataset. The daily maximum temperature file is named: `CLIMATE_GRID_tasmax_2019_07_daily_latlon_5km.nc`. How long are the heat waves in this dataset?"
   ]
  },
  {
   "cell_type": "markdown",
   "metadata": {},
   "source": [
    "# 7. <a id='toc7_'></a>[Extra 2. Simulation without urban areas](#toc0_)\n",
    "\n",
    "The model which we have used for all simulations consists of an atmospheric part, ALARO, and a surface module, SURFEX. The interaction between the atmosphere and the surface is an important part of weather and climate modelling. These interactions depend heavily on the type of surface. SURFEX tackles this variety by considering four classes of surface: sea, (inland) water, town and nature. Based on an external dataset (ECOCLIMAP) every grid box of the model is assigned a certain fraction of each of these four classes. For example, for a model with a resolution of 4-km, we could find a grid box in a small town with 30 % town fraction and 70 % nature fraction. Also, a grid box containing a city by the coast could have a town fraction of 25 %, a nature fraction of 20 % and a sea fraction of 55 %. Note that the fractions for each grid box necessarily always sum to 100 %. Every part of the grid box is calculated separately by a different sub-module, specific to the surface type. The output of these calculations (for example the near-surface air temperature) are then aggregated for the whole grid box, by taking a weighted average, with the land use fractions taken as weights. \n",
    "\n",
    "We will now investigate a simulation where we made some changes to the land use. For this simulation, we have taken every urban area and put it equal to rock. Normally, urban areas are calculated by the TEB (Town Energy Balance)-module, therefore we denote this simulation by `noTEB`. Explore this simulation by following the next steps:\n",
    "- Load in the `tas` (near-surface air temperature) data for the simulations `initSFX` (with towns) and `initSFXnoTEB` (without towns) for the simulation starting on 1 July 2019 (720 hours). Select the period of the heat wave: 22 until 26 July 2019. \n",
    "- Load in the `land_use` data for both simulations. Plot all fractions for both simulations and verify the differences are as expected.\n",
    "- Select only the data from points which have a town fraction higher than 20 % in the `initSFX`-simulations. Select these points for both simulations. In the `initSFXnoTEB`-simulation these points will have a 0 % town fraction.\n",
    "- Calculate the average diurnal cycle of the temperature averaged over all points for both simulations. The average diurnal (or daily) cycle is calculated by taking the average of a variable for each hour of the day. The `groupby`-function from xarray will prove useful for this part.\n",
    "- Compare the diurnal cycles for both simulations. What do you see? Plot the difference between both cycles. When is the difference largest?"
   ]
  }
 ],
 "metadata": {
  "kernelspec": {
   "display_name": "Python 3 (ipykernel)",
   "language": "python",
   "name": "python3"
  },
  "language_info": {
   "codemirror_mode": {
    "name": "ipython",
    "version": 3
   },
   "file_extension": ".py",
   "mimetype": "text/x-python",
   "name": "python",
   "nbconvert_exporter": "python",
   "pygments_lexer": "ipython3"
  }
 },
 "nbformat": 4,
 "nbformat_minor": 4
}
